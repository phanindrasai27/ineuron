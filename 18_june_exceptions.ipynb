{
 "cells": [
  {
   "attachments": {},
   "cell_type": "markdown",
   "metadata": {},
   "source": [
    "### 1. What is the role of the 'else' block in a try-except statement? Provide an example scenario where it would be useful."
   ]
  },
  {
   "cell_type": "code",
   "execution_count": 1,
   "metadata": {},
   "outputs": [
    {
     "name": "stdout",
     "output_type": "stream",
     "text": [
      "The result of 10 divided by 2 is: 5.0\n",
      "Error : dividing by zero\n"
     ]
    }
   ],
   "source": [
    "# in the try-except statement in python, the 'else' block is optional and is executed if no exceptions are raised in the 'try' block. its purpose is to contain the code that should run only if the 'try' block executes successfully without exceptions\n",
    "\n",
    "# example\n",
    "\n",
    "def divide_numbers(a, b):\n",
    "    try:\n",
    "        result = a/b\n",
    "    except ZeroDivisionError:\n",
    "        print(\"Error : dividing by zero\")\n",
    "    else:\n",
    "        print(f\"The result of {a} divided by {b} is: {result}\")\n",
    "\n",
    "divide_numbers(10, 2)\n",
    "\n",
    "divide_numbers(8, 0)"
   ]
  },
  {
   "attachments": {},
   "cell_type": "markdown",
   "metadata": {},
   "source": [
    "### 2. Can a try-except block be nested inside another try-except block? Explain with an example."
   ]
  },
  {
   "cell_type": "code",
   "execution_count": 5,
   "metadata": {},
   "outputs": [
    {
     "name": "stdout",
     "output_type": "stream",
     "text": [
      "Error : dividing by zero in the nested block\n",
      "The final result is: None\n",
      "Error: Division by Zero in the outer block\n",
      "The final result is: 0.0\n"
     ]
    }
   ],
   "source": [
    "# yes try_except blocks can be nested within each other in python. This nesting allows for handling different levels of potential errors in a more granular way.\n",
    "\n",
    "def divide_numbers2(a, b, c):\n",
    "    final_result = None\n",
    "    try:\n",
    "        result = a/b\n",
    "        try:\n",
    "            final_result = result / c\n",
    "        except ZeroDivisionError:\n",
    "            print(\"Error : dividing by zero in the nested block\")\n",
    "    except ZeroDivisionError:\n",
    "        print(\"Error: Division by Zero in the outer block\")\n",
    "    else:\n",
    "        print(f\"The final result is: {final_result}\")\n",
    "\n",
    "divide_numbers2(10, 5, 0)\n",
    "\n",
    "divide_numbers2(10, 0, 1)\n",
    "\n",
    "divide_numbers2(0, 5, 1)\n"
   ]
  },
  {
   "attachments": {},
   "cell_type": "markdown",
   "metadata": {},
   "source": [
    "### 3. How can you create a custom exception class in Python? Provide an example that demonstrates its usage."
   ]
  },
  {
   "cell_type": "code",
   "execution_count": 10,
   "metadata": {},
   "outputs": [
    {
     "name": "stdout",
     "output_type": "stream",
     "text": [
      "Custom error Encountered: value cannot be negetive\n"
     ]
    }
   ],
   "source": [
    "# creating a custom exception class in python, you should inherit the built-in function ' Exception' class or one of its subclasses. this allows you to create a specialized exception fits the specific usecase.\n",
    "\n",
    "# example\n",
    "\n",
    "class CustomException(Exception):\n",
    "    def __init__(self, message):\n",
    "        self.message = message\n",
    "        super().__init__(self.message)\n",
    "\n",
    "def check_value(x):\n",
    "    if x < 0:\n",
    "        raise CustomException(\"value cannot be negetive\")\n",
    "\n",
    "try:\n",
    "    user_input = int(input(\"Enter the number: \"))\n",
    "    check_value(user_input)\n",
    "    print(\"Value is valid\")\n",
    "except ValueError:\n",
    "    print(\"please enter a valid number\")\n",
    "except CustomException as ce:\n",
    "    print(f\"Custom error Encountered: {ce.message}\")"
   ]
  },
  {
   "attachments": {},
   "cell_type": "markdown",
   "metadata": {},
   "source": [
    "### 4. What are some common exceptions that are built-in to Python?\n",
    "\n",
    "Python includes various built-in exceptions that cover a wide range of potential errors or exceptional situations that may occur during program execution. Here are some common built-in exceptions:\n",
    "\n",
    "SyntaxError: Raised when the Python parser encounters a syntax error.\n",
    "\n",
    "IndentationError: Raised when there's an incorrect indentation.\n",
    "\n",
    "TypeError: Raised when an operation or function is applied to an object of an inappropriate type.\n",
    "\n",
    "NameError: Raised when a local or global name is not found.\n",
    "\n",
    "ValueError: Raised when a built-in operation or function receives an argument that has the right type but an inappropriate value.\n",
    "\n",
    "KeyError: Raised when a dictionary key is not found.\n",
    "\n",
    "IndexError: Raised when a sequence index is out of range.\n",
    "\n",
    "FileNotFoundError: Raised when a file or directory is requested but cannot be found.\n",
    "\n",
    "IOError: Base class for I/O-related errors.\n",
    "\n",
    "ZeroDivisionError: Raised when division or modulo by zero occurs.\n",
    "\n",
    "AssertionError: Raised when an assert statement fails.\n",
    "\n",
    "AttributeError: Raised when an attribute reference or assignment fails.\n",
    "\n",
    "RuntimeError: Raised when an error doesn't fall under any specific category.\n",
    "\n",
    "Exception: Base class for all exceptions; every exception inherits from this class.\n",
    "\n",
    "These exceptions provide a structured way to handle errors or exceptional conditions in Python programs, allowing developers to anticipate potential issues and respond to them gracefully through try-except blocks or other error-handling mechanisms."
   ]
  },
  {
   "attachments": {},
   "cell_type": "markdown",
   "metadata": {},
   "source": [
    "### 5. What is logging in Python, and why is it important in software development?\n"
   ]
  },
  {
   "cell_type": "code",
   "execution_count": 11,
   "metadata": {},
   "outputs": [
    {
     "name": "stderr",
     "output_type": "stream",
     "text": [
      "2023-11-24 10:32:43,934 - ERROR - Error: division by zero\n",
      "Traceback (most recent call last):\n",
      "  File \"/var/folders/fl/969qbs852wd2bwk1508xx_gw0000gn/T/ipykernel_2535/2139631713.py\", line 16, in divide\n",
      "    result = a / b\n",
      "ZeroDivisionError: division by zero\n"
     ]
    }
   ],
   "source": [
    "# Logging in python refers to the process of recording events, messages and activities that occur during the execution the program. the logging module in python provides a flexible and powerful framework for generating log messages from an application.\n",
    "\n",
    "#importance of logging in software development lifecycle:\n",
    "# 1. debugging and troubleshooting\n",
    "# 2. monitoring and performance analysis\n",
    "# 3. auditing and compliance\n",
    "# 4. error and exception handling\n",
    "\n",
    "import logging\n",
    "\n",
    "# Configure logging\n",
    "logging.basicConfig(level=logging.DEBUG, format='%(asctime)s - %(levelname)s - %(message)s')\n",
    "\n",
    "def divide(a, b):\n",
    "    try:\n",
    "        result = a / b\n",
    "        logging.info(f\"Division result: {result}\")\n",
    "    except ZeroDivisionError as e:\n",
    "        logging.error(f\"Error: {e}\", exc_info=True)\n",
    "\n",
    "divide(10, 0)\n"
   ]
  },
  {
   "attachments": {},
   "cell_type": "markdown",
   "metadata": {},
   "source": [
    "### 6. Explain the purpose of log levels in Python logging and provide examples of when each log level would be appropriate."
   ]
  },
  {
   "cell_type": "code",
   "execution_count": 12,
   "metadata": {},
   "outputs": [
    {
     "name": "stderr",
     "output_type": "stream",
     "text": [
      "2023-11-24 10:37:44,371 - DEBUG - This is a debug message.\n",
      "2023-11-24 10:37:44,371 - INFO - user logged in successfully.\n",
      "2023-11-24 10:37:44,372 - WARNING - Disk space is running low\n",
      "2023-11-24 10:37:44,372 - ERROR - File not found: devops.txt\n",
      "2023-11-24 10:37:44,373 - CRITICAL - Database connection failed.\n"
     ]
    }
   ],
   "source": [
    "# Log levels in Python logging help categorize and prioritize log messages based on their severity. They allow developers to filter and control which messages get logged, making it easier to manage and analyze logs. Python's logging module defines several log levels:\n",
    "\n",
    "# 1. DEBUG:\n",
    "logging.debug(\"This is a debug message.\")\n",
    "\n",
    "# 2. INFO:\n",
    "logging.info(\"user logged in successfully.\")\n",
    "\n",
    "# 3. WARNING:\n",
    "logging.warning(\"Disk space is running low\")\n",
    "\n",
    "# 4. ERROR:\n",
    "logging.error(\"File not found: devops.txt\")\n",
    "\n",
    "# 5. CRITICAL:\n",
    "logging.critical(\"Database connection failed.\")"
   ]
  },
  {
   "attachments": {},
   "cell_type": "markdown",
   "metadata": {},
   "source": [
    "### 7. What are log formatters in Python logging, and how can you customise the log message format using formatters?"
   ]
  },
  {
   "cell_type": "code",
   "execution_count": 15,
   "metadata": {},
   "outputs": [
    {
     "name": "stderr",
     "output_type": "stream",
     "text": [
      "2023-11-24 10:40:57,368 - INFO - This is an quaterly message.\n",
      "2023-11-24 10:40:57,370 - WARNING - This is a immediate warning!\n"
     ]
    }
   ],
   "source": [
    "# Log formatters in Python logging are used to customize the structure and appearance of log messages. They define the layout and content of log entries, allowing developers to specify how the information should be presented in log records. The logging.Formatter class in Python's logging module is used to create and configure log message formats.\n",
    "\n",
    "import logging\n",
    "\n",
    "# Create a custom log formatter\n",
    "formatter = logging.Formatter('%(asctime)s - %(name)s - %(levelname)s - %(message)s')\n",
    "\n",
    "# Create a logger and set the formatter\n",
    "logger = logging.getLogger('custom_logger')\n",
    "file_handler = logging.FileHandler('custom_logs.log')\n",
    "file_handler.setFormatter(formatter)\n",
    "logger.addHandler(file_handler)\n",
    "\n",
    "# Log messages using the custom format\n",
    "logger.info('This is an quaterly message.')\n",
    "logger.warning('This is a immediate warning!')"
   ]
  },
  {
   "attachments": {},
   "cell_type": "markdown",
   "metadata": {},
   "source": [
    "### 8. How can you set up logging to capture log messages from multiple modules or classes in a Python application?\n",
    "\n"
   ]
  },
  {
   "cell_type": "code",
   "execution_count": 16,
   "metadata": {},
   "outputs": [
    {
     "name": "stderr",
     "output_type": "stream",
     "text": [
      "INFO - This is a message from Module 1\n",
      "2023-11-24 11:14:53,986 - INFO - This is a message from Module 1\n",
      "WARNING - Warning from Module 2\n",
      "2023-11-24 11:14:53,987 - WARNING - Warning from Module 2\n"
     ]
    }
   ],
   "source": [
    "#  To capture log messages from multiple modules or classes in a Python application, you can set up a hierarchical logging structure using Python's logging module. This involves configuring loggers and handlers to manage log messages across different modules and classes.\n",
    "\n",
    "# Module 1\n",
    "import logging\n",
    "\n",
    "logger = logging.getLogger(__name__)\n",
    "\n",
    "# Module 2\n",
    "import logging\n",
    "\n",
    "logger = logging.getLogger(__name__)\n",
    "\n",
    "# Module 1 setup\n",
    "file_handler_module1 = logging.FileHandler('module1_logs.log')\n",
    "formatter_module1 = logging.Formatter('%(asctime)s - %(name)s - %(levelname)s - %(message)s')\n",
    "file_handler_module1.setFormatter(formatter_module1)\n",
    "logger.addHandler(file_handler_module1)\n",
    "\n",
    "\n",
    "# Module 2 setup\n",
    "stream_handler_module2 = logging.StreamHandler()\n",
    "formatter_module2 = logging.Formatter('%(levelname)s - %(message)s')\n",
    "stream_handler_module2.setFormatter(formatter_module2)\n",
    "logger.addHandler(stream_handler_module2)\n",
    "\n",
    "\n",
    "# Module 1 log messages\n",
    "logger.info('This is a message from Module 1')\n",
    "\n",
    "\n",
    "# Module 2 log messages\n",
    "logger.warning('Warning from Module 2')\n",
    "\n",
    "\n",
    "# Set log level for module 1 logger\n",
    "logger.setLevel(logging.INFO)\n",
    "\n",
    "# Configure propagation for module 1 logger (if needed)\n",
    "logger.propagate = False"
   ]
  },
  {
   "attachments": {},
   "cell_type": "markdown",
   "metadata": {},
   "source": [
    "### 9. What is the difference between the logging and print statements in Python? When should you use logging over print statements in a real-world application?\n",
    "\n",
    "\n",
    "the logging and print statements in python serve for different purposes for displaying information during program execution:\n",
    "\n",
    "logging:\n",
    "1. structured output\n",
    "2. Flexibility\n",
    "3. Granular control\n",
    "4. Runtime Switching\n",
    "\n",
    "print statements:\n",
    "1. Simple output\n",
    "2. Limited control\n",
    "3. No structured logging\n",
    "\n",
    "When to use Logging over print statements in a real-world Application:\n",
    "1. production Environments\n",
    "2. Debugging and troubleshoots\n",
    "3. Long_Term Maintenance\n",
    "\n",
    "while print statements are quick and handy during developemnt for simple output, logging offers more control, structure and flexibility, making it more professional for real world usecase."
   ]
  },
  {
   "attachments": {},
   "cell_type": "markdown",
   "metadata": {},
   "source": [
    "### 10. Write a Python program that logs a message to a file named \"app.log\" with the following requirements:\n",
    "● The log message should be \"Hello, World!\"\n",
    "\n",
    "● The log level should be set to \"INFO.\"\n",
    "\n",
    "● The log file should append new log entries without overwriting previous ones."
   ]
  },
  {
   "cell_type": "code",
   "execution_count": 18,
   "metadata": {},
   "outputs": [
    {
     "name": "stderr",
     "output_type": "stream",
     "text": [
      "2023-11-24 11:25:45,586 - INFO - Hello, World!\n",
      "2023-11-24 11:25:45,587 - ERROR - variable datatype changed\n",
      "2023-11-24 11:25:45,587 - WARNING - database detachment\n",
      "2023-11-24 11:25:45,587 - DEBUG - error debug in app.py\n"
     ]
    }
   ],
   "source": [
    "import logging\n",
    "\n",
    "# Configure logging to a file\n",
    "logging.basicConfig(filename='app.log', level=logging.INFO, filemode='a', format='%(asctime)s - %(levelname)s - %(message)s')\n",
    "\n",
    "# Log a message with INFO level\n",
    "logging.info('Hello, World!')\n",
    "logging.error(\"variable datatype changed\")\n",
    "logging.warning(\"database detachment\")\n",
    "logging.debug(\"error debug in app.py\")"
   ]
  },
  {
   "attachments": {},
   "cell_type": "markdown",
   "metadata": {},
   "source": [
    "### 11. Create a Python program that logs an error message to the console and a file named \"errors.log\" if an exception occurs during the program's execution. The error message should include the exception type and a timestamp.\n",
    "\n"
   ]
  },
  {
   "cell_type": "code",
   "execution_count": 19,
   "metadata": {},
   "outputs": [
    {
     "name": "stderr",
     "output_type": "stream",
     "text": [
      "ERROR - 2023-11-24 11:27:24,307 - Exception occurred: ZeroDivisionError - Timestamp: 2023-11-24 11:27:24\n",
      "Traceback (most recent call last):\n",
      "  File \"/var/folders/fl/969qbs852wd2bwk1508xx_gw0000gn/T/ipykernel_2535/2550072648.py\", line 22, in <module>\n",
      "    result = 10 / 0  # This will raise a ZeroDivisionError\n",
      "ZeroDivisionError: division by zero\n",
      "2023-11-24 11:27:24,307 - ERROR - Exception occurred: ZeroDivisionError - Timestamp: 2023-11-24 11:27:24\n",
      "Traceback (most recent call last):\n",
      "  File \"/var/folders/fl/969qbs852wd2bwk1508xx_gw0000gn/T/ipykernel_2535/2550072648.py\", line 22, in <module>\n",
      "    result = 10 / 0  # This will raise a ZeroDivisionError\n",
      "ZeroDivisionError: division by zero\n"
     ]
    }
   ],
   "source": [
    "import logging\n",
    "import datetime\n",
    "\n",
    "# Configure logging to console\n",
    "console_handler = logging.StreamHandler()\n",
    "console_formatter = logging.Formatter('%(levelname)s - %(asctime)s - %(message)s')\n",
    "console_handler.setFormatter(console_formatter)\n",
    "\n",
    "# Configure logging to file\n",
    "file_handler = logging.FileHandler('errors.log', mode='a')\n",
    "file_formatter = logging.Formatter('%(levelname)s - %(asctime)s - %(message)s')\n",
    "file_handler.setFormatter(file_formatter)\n",
    "\n",
    "# Create logger and add both handlers\n",
    "logger = logging.getLogger('error_logger')\n",
    "logger.setLevel(logging.ERROR)  # Log only ERROR level and above\n",
    "logger.addHandler(console_handler)\n",
    "logger.addHandler(file_handler)\n",
    "\n",
    "try:\n",
    "    result = 10 / 0  # This will raise a ZeroDivisionError\n",
    "except Exception as e:\n",
    "    # Log the exception details\n",
    "    timestamp = datetime.datetime.now().strftime(\"%Y-%m-%d %H:%M:%S\")\n",
    "    error_message = f\"Exception occurred: {type(e).__name__} - Timestamp: {timestamp}\"\n",
    "    logger.error(error_message, exc_info=True)"
   ]
  }
 ],
 "metadata": {
  "kernelspec": {
   "display_name": "virtual_environment_name",
   "language": "python",
   "name": "virtual_environment_name"
  },
  "language_info": {
   "codemirror_mode": {
    "name": "ipython",
    "version": 3
   },
   "file_extension": ".py",
   "mimetype": "text/x-python",
   "name": "python",
   "nbconvert_exporter": "python",
   "pygments_lexer": "ipython3",
   "version": "3.10.12"
  },
  "orig_nbformat": 4
 },
 "nbformat": 4,
 "nbformat_minor": 2
}
