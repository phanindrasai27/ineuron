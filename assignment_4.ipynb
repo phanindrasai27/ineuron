{
 "cells": [
  {
   "attachments": {},
   "cell_type": "markdown",
   "metadata": {},
   "source": [
    "### 1.What is []?\n",
    "\n",
    "[] represents an empty list in Python. It signifies a list structure with no elements inside.\n"
   ]
  },
  {
   "attachments": {},
   "cell_type": "markdown",
   "metadata": {},
   "source": [
    "### 2. In a list of values stored in a variable called spam, how would you assign the value \"hello\" as the third value? (Assume [2, 4, 6, 8, 10] are in spam.)"
   ]
  },
  {
   "cell_type": "code",
   "execution_count": 3,
   "metadata": {},
   "outputs": [],
   "source": [
    "# Assigning 'hello' as the third value in the spam list:\n",
    "# Assuming spam = [2, 4, 6, 8, 10], you can assign 'hello' as the third value (at index 2) using:\n",
    "\n",
    "spam = [2, 4, 6, 8, 10]\n",
    "\n",
    "spam[2] = 'hello'"
   ]
  },
  {
   "attachments": {},
   "cell_type": "markdown",
   "metadata": {},
   "source": [
    "### 3. What is the value of spam[int(int(3 * 2) / 11)]?\n",
    "### 4. What is the value of spam[-1]?\n",
    "### 5. What is the value of spam[:2]?\n",
    "\n",
    "\n",
    "Let's pretend the spam includes the list ['a', 'b', 'c', 'd'] for the next three queries.\n",
    "\n",
    "spam = ['a', 'b', 'c', 'd']  # The assumed list\n",
    "\n",
    "3. What is the value of spam[int(int(3 * 2) / 11)]?\n",
    "\n",
    "3 * 2 is 6.\n",
    "\n",
    "6 / 11 is 0.5454545, which when converted to an integer becomes 0.\n",
    "\n",
    "Thus, spam[0] refers to the first element in the list, which is 'a'.\n",
    "\n",
    "\n",
    "4.What is the value of spam[-1]?\n",
    "\n",
    "-1 represents the last element in a list.\n",
    "\n",
    "So, spam[-1] returns the last element of the list, which is 'd'.\n",
    "\n",
    "5 What is the value of spam[:2]?\n",
    "\n",
    "This slices the list from the start up to index 2 (exclusive).\n",
    "\n",
    "Therefore, spam[:2] returns ['a', 'b']."
   ]
  },
  {
   "attachments": {},
   "cell_type": "markdown",
   "metadata": {},
   "source": [
    "### Lets pretend bacon has the list [3.14, cat, 11, cat, True] for the next three questions.\n",
    "6. What is the value of bacon.index(cat)?\n",
    "7. How does bacon.append(99) change the look of the list value in bacon?\n",
    "8. How does bacon.remove(cat) change the look of the list in bacon?\n",
    "\n",
    "6 What is the value of bacon.index('cat')?\n",
    "\n",
    ".index() returns the index of the first occurrence of the specified value.\n",
    "\n",
    "bacon.index('cat') will return 1, which is the index of the first 'cat' in the list.\n",
    "\n",
    "7 How does bacon.append(99) change the look of the list value in bacon?\n",
    "\n",
    ".append() adds the element 99 to the end of the list.\n",
    "\n",
    "After bacon.append(99), bacon will be [3.14, 'cat', 11, 'cat', True, 99].\n",
    "\n",
    "8 How does bacon.remove('cat') change the look of the list in bacon?\n",
    "\n",
    ".remove() deletes the first occurrence of the specified value.\n",
    "\n",
    "After bacon.remove('cat'), bacon will be [3.14, 11, 'cat', True]."
   ]
  },
  {
   "attachments": {},
   "cell_type": "markdown",
   "metadata": {},
   "source": [
    "### 9. What are the list concatenation and list replication operators?"
   ]
  },
  {
   "cell_type": "code",
   "execution_count": 6,
   "metadata": {},
   "outputs": [
    {
     "name": "stdout",
     "output_type": "stream",
     "text": [
      "[1, 2, 3, 4, 5, 6]\n",
      "[1, 2, 3, 1, 2, 3, 1, 2, 3]\n"
     ]
    }
   ],
   "source": [
    "# List Concatenation: It's performed using the + operator, which combines two lists into one.\n",
    "\n",
    "list1 = [1, 2, 3]\n",
    "list2 = [4, 5, 6]\n",
    "concatenated = list1 + list2\n",
    "print(concatenated)\n",
    "\n",
    "# List Replication: It's achieved using the * operator, which creates a new list by repeating the existing list elements.\n",
    "\n",
    "original = [1, 2, 3]\n",
    "replicated = original * 3 \n",
    "print(replicated)"
   ]
  },
  {
   "attachments": {},
   "cell_type": "markdown",
   "metadata": {},
   "source": [
    "### 10. What is difference between the list methods append() and insert()?"
   ]
  },
  {
   "cell_type": "code",
   "execution_count": 9,
   "metadata": {},
   "outputs": [],
   "source": [
    "# append(): Adds an element to the end of the list.\n",
    "\n",
    "my_list = [1, 2, 3]\n",
    "my_list.append(4) \n",
    "\n",
    "# insert(): Inserts an element at a specific index in the list.\n",
    "\n",
    "my_list = [1, 2, 3]\n",
    "my_list.insert(1, 10)  "
   ]
  },
  {
   "attachments": {},
   "cell_type": "markdown",
   "metadata": {},
   "source": [
    "### 11. What are the two methods for removing items from a list?\n"
   ]
  },
  {
   "cell_type": "code",
   "execution_count": 11,
   "metadata": {},
   "outputs": [
    {
     "data": {
      "text/plain": [
       "2"
      ]
     },
     "execution_count": 11,
     "metadata": {},
     "output_type": "execute_result"
    }
   ],
   "source": [
    "# remove(): Removes the first occurrence of a specified value from the list.\n",
    "\n",
    "my_list = [1, 2, 3, 2]\n",
    "my_list.remove(2)\n",
    "\n",
    "# pop(): Removes and returns the element at a specific index (default is the last element).\n",
    "\n",
    "my_list = [1, 2, 3]\n",
    "my_list.pop(1)  "
   ]
  },
  {
   "attachments": {},
   "cell_type": "markdown",
   "metadata": {},
   "source": [
    "### 12. Describe how list values and string values are identical.\n",
    "\n",
    "Both can be sliced using indexing.\n",
    "\n",
    "Both can be concatenated using +.\n",
    "\n",
    "Both can be iterated through using loops.\n"
   ]
  },
  {
   "attachments": {},
   "cell_type": "markdown",
   "metadata": {},
   "source": [
    "### 13. Whats the difference between tuples and lists?\n",
    "\n",
    "Lists are mutable (can be changed), while tuples are immutable (cannot be changed after creation).\n",
    "\n",
    "Lists are defined using square brackets [], while tuples use parentheses ()."
   ]
  },
  {
   "attachments": {},
   "cell_type": "markdown",
   "metadata": {},
   "source": [
    "### 14. How do you type a tuple value that only contains the integer 42?"
   ]
  },
  {
   "cell_type": "code",
   "execution_count": 12,
   "metadata": {},
   "outputs": [],
   "source": [
    "my_tuple = (42,)"
   ]
  },
  {
   "attachments": {},
   "cell_type": "markdown",
   "metadata": {},
   "source": [
    "### 15. How do you get a list values tuple form? How do you get a tuple values list form?\n",
    "\n",
    "Converting list values to tuple form and vice versa:\n",
    "\n",
    "To convert a list to a tuple: my_tuple = tuple(my_list)\n",
    "\n",
    "To convert a tuple to a list: my_list = list(my_tuple)\n"
   ]
  },
  {
   "attachments": {},
   "cell_type": "markdown",
   "metadata": {},
   "source": [
    "### 16. Variables that contain list values are not necessarily lists themselves. Instead, what do they contain?\n",
    "\n",
    "They contain references to the list objects rather than the actual list."
   ]
  },
  {
   "attachments": {},
   "cell_type": "markdown",
   "metadata": {},
   "source": [
    "### 17. How do you distinguish between copy.copy() and copy.deepcopy()?\n",
    "\n",
    " copy.copy(): Creates a shallow copy of an object (only copies references to nested objects).\n",
    " \n",
    "copy.deepcopy(): Creates a deep copy of an object (copies the object as well as all nested objects).\n"
   ]
  }
 ],
 "metadata": {
  "kernelspec": {
   "display_name": "virtual_environment_name",
   "language": "python",
   "name": "virtual_environment_name"
  },
  "language_info": {
   "codemirror_mode": {
    "name": "ipython",
    "version": 3
   },
   "file_extension": ".py",
   "mimetype": "text/x-python",
   "name": "python",
   "nbconvert_exporter": "python",
   "pygments_lexer": "ipython3",
   "version": "3.10.12"
  },
  "orig_nbformat": 4
 },
 "nbformat": 4,
 "nbformat_minor": 2
}
