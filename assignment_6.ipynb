{
 "cells": [
  {
   "attachments": {},
   "cell_type": "markdown",
   "metadata": {},
   "source": [
    "### Q.1. What are keywords in python? Using the keyword library, print all the python keywords."
   ]
  },
  {
   "cell_type": "code",
   "execution_count": 1,
   "metadata": {},
   "outputs": [
    {
     "name": "stdout",
     "output_type": "stream",
     "text": [
      "['False', 'None', 'True', 'and', 'as', 'assert', 'async', 'await', 'break', 'class', 'continue', 'def', 'del', 'elif', 'else', 'except', 'finally', 'for', 'from', 'global', 'if', 'import', 'in', 'is', 'lambda', 'nonlocal', 'not', 'or', 'pass', 'raise', 'return', 'try', 'while', 'with', 'yield']\n"
     ]
    }
   ],
   "source": [
    "# Keywords in Python:\n",
    "# Keywords are reserved words that are predefined and have special meanings in Python. These words cannot be used as variable names or identifiers.\n",
    "# Using the keyword library, you can print all the Python keywords:\n",
    "import keyword\n",
    "print(keyword.kwlist)"
   ]
  },
  {
   "attachments": {},
   "cell_type": "markdown",
   "metadata": {},
   "source": [
    "### Q.2. What are the rules to create variables in python?\n",
    "\n",
    "Rules to create variables in Python:\n",
    "\n",
    "Variable names in Python:\n",
    "\n",
    "Must start with a letter (a-z, A-Z) or underscore (_).\n",
    "\n",
    "Can contain letters, numbers, and underscores.\n",
    "\n",
    "Cannot start with a number.\n",
    "\n",
    "Are case-sensitive."
   ]
  },
  {
   "attachments": {},
   "cell_type": "markdown",
   "metadata": {},
   "source": [
    "### Q.3. What are the standards and conventions followed for the nomenclature of variables in python to improve code readability and maintainability?\n",
    "\n",
    "Standards and conventions for variable naming in Python:\n",
    "\n",
    "Follow the PEP 8 style guide:\n",
    "\n",
    "Use lowercase for variable names.\n",
    "\n",
    "Use underscores to separate words for better readability (my_variable).\n",
    "\n",
    "Use descriptive names that convey the purpose of the variable.\n"
   ]
  },
  {
   "attachments": {},
   "cell_type": "markdown",
   "metadata": {},
   "source": [
    "### Q.4. What will happen if a keyword is used as a variable name?"
   ]
  },
  {
   "cell_type": "code",
   "execution_count": 3,
   "metadata": {},
   "outputs": [],
   "source": [
    "# Using a keyword as a variable name:\n",
    "# If a keyword is used as a variable name, it will result in a syntax error. Keywords are reserved for specific purposes and cannot be used for other identifiers.\n",
    "# def = 10 "
   ]
  },
  {
   "attachments": {},
   "cell_type": "markdown",
   "metadata": {},
   "source": [
    "### Q.5. For what purpose def keyword is used?"
   ]
  },
  {
   "cell_type": "code",
   "execution_count": 5,
   "metadata": {},
   "outputs": [],
   "source": [
    "# Purpose of the 'def' keyword:\n",
    "# The 'def' keyword is used to define a function in Python.\n",
    "# It is followed by the function name and the function body block, defining the actions to be performed when the function is called.\n",
    "def greet(name):\n",
    "    return f\"Hello, {name}!\""
   ]
  },
  {
   "attachments": {},
   "cell_type": "markdown",
   "metadata": {},
   "source": [
    "### Q.6. What is the operation of this special character ‘\\’?\n",
    "\n",
    "Operation of the special character '':\n",
    "\n",
    "The backslash (\\) is an escape character in Python.\n",
    "\n",
    "It is used to indicate special sequences in strings, such as newline (\\n), tab (\\t), or as an escape character to include special characters like single quotes (\\') or double quotes (\\\")."
   ]
  },
  {
   "attachments": {},
   "cell_type": "markdown",
   "metadata": {},
   "source": [
    "### Q.7. Give an example of the following conditions:\n",
    "(i) Homogeneous list\n",
    "\n",
    "(ii) Heterogeneous set\n",
    "\n",
    "(iii) Homogeneous tuple"
   ]
  },
  {
   "cell_type": "code",
   "execution_count": 6,
   "metadata": {},
   "outputs": [],
   "source": [
    "homogeneous_list = [1, 2, 3, 4, 5]\n",
    "\n",
    "heterogeneous_set = {1, 'hello', 3.14, True}\n",
    "\n",
    "homogeneous_tuple = (10, 20, 30, 40, 50)"
   ]
  },
  {
   "attachments": {},
   "cell_type": "markdown",
   "metadata": {},
   "source": [
    "### Q.8. Explain the mutable and immutable data types with proper explanation & examples."
   ]
  },
  {
   "cell_type": "code",
   "execution_count": 8,
   "metadata": {},
   "outputs": [],
   "source": [
    "# Mutable: Objects whose value can be changed after creation are mutable. Examples include lists, sets, and dictionaries.\n",
    "\n",
    "my_list = [1, 2, 3]\n",
    "my_list.append(4)  # Mutable - can modify the list\n",
    "\n",
    "# Immutable: Objects whose value cannot be changed after creation are immutable. Examples include tuples, strings, and numbers.\n",
    "\n",
    "my_tuple = (1, 2, 3) # Immutable - cannot modify the tuple (will raise an error)"
   ]
  },
  {
   "attachments": {},
   "cell_type": "markdown",
   "metadata": {},
   "source": [
    "### Q.9. Write a code to create the given structure using only for loop.\n"
   ]
  },
  {
   "cell_type": "code",
   "execution_count": 9,
   "metadata": {},
   "outputs": [
    {
     "name": "stdout",
     "output_type": "stream",
     "text": [
      "*\n",
      "***\n",
      "*****\n",
      "*******\n",
      "*********\n"
     ]
    }
   ],
   "source": [
    "for i in range(1, 6):\n",
    "    print('*' * (2 * i - 1))"
   ]
  },
  {
   "attachments": {},
   "cell_type": "markdown",
   "metadata": {},
   "source": [
    "### Q.10. Write a code to create the given structure using while loop.\n",
    "|||||||||\n",
    "\n",
    "|||||||\n",
    "\n",
    "|||||\n",
    "\n",
    "|||\n",
    "\n",
    "|"
   ]
  },
  {
   "cell_type": "code",
   "execution_count": 10,
   "metadata": {},
   "outputs": [
    {
     "name": "stdout",
     "output_type": "stream",
     "text": [
      "|||||||||\n",
      "|||||||\n",
      "|||||\n",
      "|||\n",
      "|\n"
     ]
    }
   ],
   "source": [
    "n = 9\n",
    "while n >= 1:\n",
    "    print('|' * n)\n",
    "    n -= 2"
   ]
  }
 ],
 "metadata": {
  "kernelspec": {
   "display_name": "virtual_environment_name",
   "language": "python",
   "name": "virtual_environment_name"
  },
  "language_info": {
   "codemirror_mode": {
    "name": "ipython",
    "version": 3
   },
   "file_extension": ".py",
   "mimetype": "text/x-python",
   "name": "python",
   "nbconvert_exporter": "python",
   "pygments_lexer": "ipython3",
   "version": "3.10.12"
  },
  "orig_nbformat": 4
 },
 "nbformat": 4,
 "nbformat_minor": 2
}
