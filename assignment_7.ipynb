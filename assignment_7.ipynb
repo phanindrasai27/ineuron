{
 "cells": [
  {
   "attachments": {},
   "cell_type": "markdown",
   "metadata": {},
   "source": [
    "### Q.1. Create two int type variables, apply addition, subtraction, division and multiplicationsand store the results in variables. Then print the data in the following format by calling the variables:\n",
    "First variable is __ & second variable is __.\n",
    "\n",
    "Addition: __ + __ = __\n",
    "\n",
    "Subtraction: __ - __ = __\n",
    "\n",
    "Multiplication: __ * __ = __\n",
    "\n",
    "Division: __ / __ = __"
   ]
  },
  {
   "cell_type": "code",
   "execution_count": 1,
   "metadata": {},
   "outputs": [
    {
     "name": "stdout",
     "output_type": "stream",
     "text": [
      "First variable is 20 & second variable is 8.\n",
      "Addition: 20 + 8 = 28\n",
      "Subtraction: 20 - 8 = 12\n",
      "Multiplication: 20 * 8 = 160\n",
      "Division: 20 / 8 = 2.5\n"
     ]
    }
   ],
   "source": [
    "# Performing operations on variables and displaying results:\n",
    "variable1 = 20\n",
    "variable2 = 8\n",
    "\n",
    "addition = variable1 + variable2\n",
    "subtraction = variable1 - variable2\n",
    "multiplication = variable1 * variable2\n",
    "division = variable1 / variable2\n",
    "\n",
    "print(f\"First variable is {variable1} & second variable is {variable2}.\")\n",
    "print(f\"Addition: {variable1} + {variable2} = {addition}\")\n",
    "print(f\"Subtraction: {variable1} - {variable2} = {subtraction}\")\n",
    "print(f\"Multiplication: {variable1} * {variable2} = {multiplication}\")\n",
    "print(f\"Division: {variable1} / {variable2} = {division}\")\n"
   ]
  },
  {
   "attachments": {},
   "cell_type": "markdown",
   "metadata": {},
   "source": [
    "### Q.2. What is the difference between the following operators:\n",
    "(i) ‘/’ & ‘//’\n",
    "\n",
    "(ii) ‘**’ & ‘^’\n",
    "\n",
    "\n",
    "Difference between operators:\n",
    "\n",
    "(i) '/' & '//':\n",
    "\n",
    "'/' performs floating-point division, returning a float result.\n",
    "\n",
    "'//' performs floor division, returning the integer quotient without considering the remainder.\n",
    "\n",
    "(ii) '**' & '^':\n",
    "\n",
    "'**' is the exponentiation operator used for raising a number to a power.\n",
    "\n",
    "'^' is not used for exponentiation in Python; it's a bitwise XOR operator."
   ]
  },
  {
   "attachments": {},
   "cell_type": "markdown",
   "metadata": {},
   "source": [
    "### Q.3. List the logical operators.\n",
    "\n",
    "Logical operators:\n",
    "\n",
    "Logical operators in Python are:\n",
    "\n",
    "and (Logical AND)\n",
    "\n",
    "or (Logical OR)\n",
    "\n",
    "not (Logical NOT)\n"
   ]
  },
  {
   "attachments": {},
   "cell_type": "markdown",
   "metadata": {},
   "source": [
    "### Q.4. Explain right shift operator and left shift operator with examples."
   ]
  },
  {
   "cell_type": "code",
   "execution_count": 2,
   "metadata": {},
   "outputs": [
    {
     "name": "stdout",
     "output_type": "stream",
     "text": [
      "2\n",
      "40\n"
     ]
    }
   ],
   "source": [
    "# Right shift and left shift operators:\n",
    "# Right shift (>>) operator moves the bits of a number to the right by a specified number of positions.\n",
    "num = 10\n",
    "right_shifted = num >> 2  # Shifting right by 2 positions\n",
    "print(right_shifted)\n",
    "\n",
    "# Left shift (<<) operator moves the bits of a number to the left by a specified number of positions.\n",
    "num = 5\n",
    "left_shifted = num << 3  # Shifting left by 3 positions\n",
    "print(left_shifted)"
   ]
  },
  {
   "attachments": {},
   "cell_type": "markdown",
   "metadata": {},
   "source": [
    "### Q.5. Create a list containing int type data of length 15. Then write a code to check if 10 is present in the list or not."
   ]
  },
  {
   "cell_type": "code",
   "execution_count": 3,
   "metadata": {},
   "outputs": [
    {
     "name": "stdout",
     "output_type": "stream",
     "text": [
      "10 is present in the list.\n"
     ]
    }
   ],
   "source": [
    "int_list = [2, 4, 6, 8, 10, 12, 14, 16, 18, 20, 22, 24, 26, 28, 30]\n",
    "\n",
    "if 10 in int_list:\n",
    "    print(\"10 is present in the list.\")\n",
    "else:\n",
    "    print(\"10 is not present in the list.\")"
   ]
  }
 ],
 "metadata": {
  "kernelspec": {
   "display_name": "virtual_environment_name",
   "language": "python",
   "name": "virtual_environment_name"
  },
  "language_info": {
   "codemirror_mode": {
    "name": "ipython",
    "version": 3
   },
   "file_extension": ".py",
   "mimetype": "text/x-python",
   "name": "python",
   "nbconvert_exporter": "python",
   "pygments_lexer": "ipython3",
   "version": "3.10.12"
  },
  "orig_nbformat": 4
 },
 "nbformat": 4,
 "nbformat_minor": 2
}
