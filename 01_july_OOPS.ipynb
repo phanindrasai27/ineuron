{
 "cells": [
  {
   "attachments": {},
   "cell_type": "markdown",
   "metadata": {},
   "source": [
    "### 1. What is the primary goal of Object-Oriented Programming (OOP)?\n",
    "\n",
    "The primary goal of Object_oriented programming is to model real_world entities or concepts in software by organizing code into objects that interact with each other.OOP focuses on several key principles to achieve this goal:\n",
    "\n",
    "Abstraction: Abstracting real-world entities into objects that encapsulate their properties (attributes) and behaviors (methods). This allows complex systems to be represented in a simplified manner.\n",
    "\n",
    "Encapsulation: Encapsulating the data (attributes) and methods (functions or behaviors) within an object, hiding the internal state of an object and exposing only necessary interfaces for interaction. This enhances modularity and reduces complexity.\n",
    "\n",
    "Inheritance: Creating new classes (subclasses or derived classes) based on existing classes (superclasses or base classes). Inheritance allows new classes to inherit properties and behaviors from their parent classes, facilitating code reuse and promoting a hierarchical structure.\n",
    "\n",
    "Polymorphism: Providing the ability for objects of different classes to be treated as objects of a common superclass. Polymorphism allows objects to be manipulated uniformly regardless of their specific class, enhancing flexibility and extensibility.\n",
    "\n",
    "Overall, the primary goal of OOP is to provide a framework that promotes modularity, reusability, maintainability, and scalability of software systems by organizing code around objects that mimic real-world entities and their interactions.\n"
   ]
  },
  {
   "attachments": {},
   "cell_type": "markdown",
   "metadata": {},
   "source": [
    "### 2. What is an object in Python?"
   ]
  },
  {
   "cell_type": "code",
   "execution_count": 5,
   "metadata": {},
   "outputs": [
    {
     "name": "stdout",
     "output_type": "stream",
     "text": [
      "Person(name: phani, age : 22)\n"
     ]
    }
   ],
   "source": [
    "#In Python, an object is a fundamental element that represents a specific instance of a class. Everything in Python is an object, which includes data structures like integers, strings, lists, dictionaries, functions, modules, and even classes themselves.\n",
    "\n",
    "#Key Characteristics of Objects in Python:\n",
    "#Attributes: Objects have attributes that store data associated with them. These attributes can be variables (also known as properties) or methods (functions).\n",
    "\n",
    "#Methods: Objects can have methods, which are functions defined within the class and operate on the object's data.\n",
    "\n",
    "#Identity: Each object has a unique identity, which is assigned upon creation and remains constant throughout its lifetime. The id() function in Python can be used to retrieve an object's unique identifier.\n",
    "\n",
    "#Type: Every object in Python has a type, which determines the kind of data it represents. The type() function can be used to check an object's type.\n",
    "\n",
    "#Instantiation: Objects are created (instantiated) from classes using the class constructor method (__init__()). Each object is an instance of a specific class.\n",
    "\n",
    "#example here name, age are objects\n",
    "class Person:\n",
    "    def __init__(self, name, age):\n",
    "        self.name = name\n",
    "        self.age = age\n",
    "    \n",
    "    def display_info(self):\n",
    "        print(f\"name : {self.name}, age : {self.age}\")\n",
    "\n",
    "    def __str__(self):\n",
    "        return f\"Person(name: {self.name}, age : {self.age})\"\n",
    "\n",
    "Person1 = Person(\"phani\", 22)\n",
    "\n",
    "print(Person1)"
   ]
  },
  {
   "attachments": {},
   "cell_type": "markdown",
   "metadata": {},
   "source": [
    "### 3. What is a class in Python?"
   ]
  },
  {
   "cell_type": "code",
   "execution_count": 6,
   "metadata": {},
   "outputs": [
    {
     "name": "stdout",
     "output_type": "stream",
     "text": [
      "Person(name: phani, age : 22)\n"
     ]
    }
   ],
   "source": [
    "# In python, a class is a blueprint or a template for creating objects. it defines the attributes and methods that the objects will have, Essentially, a class serves as a structure that encapsulates data and behavior into a single unit\n",
    "\n",
    "#Key concepts of Class:\n",
    "#1. Attributes ----- name, age\n",
    "#2. Methods ---- display_info\n",
    "#3. Constructor ---- __init__\n",
    "#4. Self ----- self\n",
    "\n",
    "class Person:\n",
    "    def __init__(self, name, age):\n",
    "        self.name = name\n",
    "        self.age = age\n",
    "    \n",
    "    def display_info(self):\n",
    "        print(f\"name : {self.name}, age : {self.age}\")\n",
    "\n",
    "    def __str__(self):\n",
    "        return f\"Person(name: {self.name}, age : {self.age})\"\n",
    "\n",
    "Person1 = Person(\"phani\", 22)\n",
    "\n",
    "print(Person1)"
   ]
  },
  {
   "attachments": {},
   "cell_type": "markdown",
   "metadata": {},
   "source": [
    "### 4. What are attributes and methods in a class?\n",
    "\n",
    "example:\n",
    "\n",
    "if car is a class, model, brand and price are the attributes and velocity and speed are the methods.\n",
    "\n",
    "Attributes are variables that store data associated with instances of a class. They represent the state or characteristics of objects.\n",
    "\n",
    "Methods are functions defined within a class that define the behavior or actions that the objects can perform. They operate on the object's data (attributes) and interact with the object itself."
   ]
  },
  {
   "attachments": {},
   "cell_type": "markdown",
   "metadata": {},
   "source": [
    "### 5. What is the difference between class variables and instance variables in Python?\n",
    "\n",
    "In Python, class variables and instance variables are both attributes of a class but with distinct scopes and usage.\n",
    "\n",
    "Class Variables:\n",
    "\n",
    "Class variables are variables defined within a class but outside of any instance method. They are shared among all instances (objects) of the class.\n",
    "\n",
    "Instance Variables:\n",
    "\n",
    "Instance variables are variables that are specific to each instance (object) of a class. They are defined within the class's methods, especially in the __init__ method using self."
   ]
  },
  {
   "attachments": {},
   "cell_type": "markdown",
   "metadata": {},
   "source": [
    "### 6. What is the purpose of the self parameter in Python class methods?\n",
    "\n",
    "\n",
    "In Python, the self parameter in class methods refers to the instance of the class itself. It is a convention (though the name self is not mandatory, it's widely used and recommended) used to pass the instance to the methods of a class automatically when calling those methods.\n",
    "\n",
    "Purpose of the self Parameter:\n",
    "#Accessing Instance Variables: self allows access to the instance's attributes and methods within the class methods. It enables class methods to operate on the specific data associated with the instance.\n",
    "\n",
    "Calling Other Methods: self is used to call other instance methods within the class. It provides a way for methods to interact and perform actions using the object's state.\n",
    "\n",
    "Creating Instance Variables: When defining new instance variables within a method, self is used to create or modify instance attributes. It ensures that the attributes belong to the specific instance rather than being local variables."
   ]
  },
  {
   "attachments": {},
   "cell_type": "markdown",
   "metadata": {},
   "source": [
    "### 7. For a library management system, you have to design the \"Book\" class with OOP principles in mind. The “Book” class will have following attributes:\n",
    "a. title: Represents the title of the book.\n",
    "b. author: Represents the author(s) of the book.\n",
    "c. isbn: Represents the ISBN (International Standard Book Number) of the book.\n",
    "d. publication_year: Represents the year of publication of the book.\n",
    "e. available_copies: Represents the number of copies available for checkout.\n",
    "The class will also include the following methods:\n",
    "a. check_out(self): Decrements the available copies by one if there are copies\n",
    "available for checkout.\n",
    "b. return_book(self): Increments the available copies by one when a book is\n",
    "returned.\n",
    "c. display_book_info(self): Displays the information about the book, including its\n",
    "attributes and the number of available copies.\n",
    "\n"
   ]
  },
  {
   "cell_type": "code",
   "execution_count": 8,
   "metadata": {},
   "outputs": [
    {
     "name": "stdout",
     "output_type": "stream",
     "text": [
      "title : Python Programming, author : Guido van Rossum, isbn : 9781449355739, publication year : 2021, available copies : 5\n",
      "One copy of 'Python Programming' checked out successfully\n",
      "title : Python Programming, author : Guido van Rossum, isbn : 9781449355739, publication year : 2021, available copies : 4\n",
      "Returned 'Python Programming'. Thank you!\n",
      "title : Python Programming, author : Guido van Rossum, isbn : 9781449355739, publication year : 2021, available copies : 5\n"
     ]
    }
   ],
   "source": [
    "class Book:\n",
    "    def __init__(self, title, author, isbn, publication_year, available_copies):\n",
    "        self.title = title\n",
    "        self.author = author\n",
    "        self.isbn = isbn\n",
    "        self.publication_year = publication_year\n",
    "        self.available_copies = available_copies\n",
    "\n",
    "    def check_out(self):\n",
    "        if self.available_copies > 0:\n",
    "            self.available_copies -= 1\n",
    "            print(f\"One copy of '{self.title}' checked out successfully\")\n",
    "        else:\n",
    "            print(f\"Sorry, '{self.title}' is currently unavailable for checkout.\")\n",
    "\n",
    "    def return_book(self):\n",
    "        self.available_copies += 1\n",
    "        print(f\"Returned '{self.title}'. Thank you!\")\n",
    "\n",
    "    def display_book_info(self):\n",
    "        print(f\"title : {self.title}, author : {self.author}, isbn : {self.isbn}, publication year : {self.publication_year}, available copies : {self.available_copies}\")\n",
    "\n",
    "# Example usage\n",
    "book1 = Book(\"Python Programming\", \"Guido van Rossum\", \"9781449355739\", 2021, 5)\n",
    "book1.display_book_info() \n",
    "\n",
    "book1.check_out()        \n",
    "book1.display_book_info()  \n",
    "\n",
    "book1.return_book()      \n",
    "book1.display_book_info()  "
   ]
  },
  {
   "attachments": {},
   "cell_type": "markdown",
   "metadata": {},
   "source": [
    "### 8. For a ticket booking system, you have to design the \"Ticket\" class with OOP principles in mind. The “Ticket” class should have the following attributes:\n",
    "a. ticket_id: Represents the unique identifier for the ticket.\n",
    "b. event_name: Represents the name of the event.\n",
    "c. event_date: Represents the date of the event.\n",
    "d. venue: Represents the venue of the event.\n",
    "e. seat_number: Represents the seat number associated with the ticket.\n",
    "f. price: Represents the price of the ticket.\n",
    "g. is_reserved: Represents the reservation status of the ticket.\n",
    "The class also includes the following methods:\n",
    "a. reserve_ticket(self): Marks the ticket as reserved if it is not already reserved.\n",
    "b. cancel_reservation(self): Cancels the reservation of the ticket if it is already\n",
    "reserved.\n",
    "c. display_ticket_info(self): Displays the information about the ticket, including its\n",
    "attributes and reservation status.\n",
    "\n"
   ]
  },
  {
   "cell_type": "code",
   "execution_count": 11,
   "metadata": {},
   "outputs": [
    {
     "name": "stdout",
     "output_type": "stream",
     "text": [
      "Ticket ID : T001, Event Name : Concert, Event Date : 2023-12-15, Venue : City Hall, Seat Number : A101, Price : 50, Reservation Status : Reserved\n",
      "Ticket is already reserved\n",
      "Ticket ID : T001, Event Name : Concert, Event Date : 2023-12-15, Venue : City Hall, Seat Number : A101, Price : 50, Reservation Status : Reserved\n",
      "Reseravation for Ticket T001 has been cancelled\n",
      "Ticket ID : T001, Event Name : Concert, Event Date : 2023-12-15, Venue : City Hall, Seat Number : A101, Price : 50, Reservation Status : Not Reserved\n"
     ]
    }
   ],
   "source": [
    "class Ticket:\n",
    "    def __init__(self, ticket_id, event_name, event_date, venue, seat_number, price, is_reserved):\n",
    "        self.ticket_id = ticket_id\n",
    "        self.event_name = event_name\n",
    "        self.event_date = event_date\n",
    "        self.venue = venue\n",
    "        self.seat_number = seat_number\n",
    "        self.price = price\n",
    "        self.is_reserved = is_reserved\n",
    "\n",
    "    def reserve_ticket(self):\n",
    "        if not self.is_reserved:\n",
    "            self.is_reserved = True\n",
    "            print(f\"Ticket {self.ticket_id} for '{self.event_name} has been reserved\")\n",
    "        else:\n",
    "            print(\"Ticket is already reserved\")\n",
    "\n",
    "    def cancel_reservation(self):\n",
    "        if self.is_reserved:\n",
    "            self.is_reserved = False\n",
    "            print(f\"Reseravation for Ticket {self.ticket_id} has been cancelled\")\n",
    "        else:\n",
    "            print(f\"Ticket is not reserved\")\n",
    "\n",
    "    def display_ticket_info(self):\n",
    "        print(f\"Ticket ID : {self.ticket_id}, Event Name : {self.event_name}, Event Date : {self.event_date}, Venue : {self.venue}, Seat Number : {self.seat_number}, Price : {self.price}, Reservation Status : {'Reserved' if self.is_reserved else 'Not Reserved'}\")\n",
    "\n",
    "# Example usage\n",
    "ticket1 = Ticket(\"T001\", \"Concert\", \"2023-12-15\", \"City Hall\", \"A101\", 50, True)\n",
    "ticket1.display_ticket_info()  # Display ticket info\n",
    "\n",
    "ticket1.reserve_ticket()      # Reserve the ticket\n",
    "ticket1.display_ticket_info()  # Display updated ticket info after reservation\n",
    "\n",
    "ticket1.cancel_reservation()  # Cancel reservation\n",
    "ticket1.display_ticket_info()  # Display updated ticket info after cancellation"
   ]
  },
  {
   "attachments": {},
   "cell_type": "markdown",
   "metadata": {},
   "source": [
    "### 9. You are creating a shopping cart for an e-commerce website. Using OOP to model the \"ShoppingCart\" functionality the class should contain following attributes and methods:\n",
    "a. items: Represents the list of items in the shopping cart.\n",
    "The class also includes the following \n",
    "\n",
    "methods:\n",
    "\n",
    "a. add_item(self, item): Adds an item to the shopping cart by appending it to the\n",
    "list of items.\n",
    "b. remove_item(self, item): Removes an item from the shopping cart if it exists in\n",
    "the list.\n",
    "c. view_cart(self): Displays the items currently present in the shopping cart.\n",
    "d. clear_cart(self): Clears all items from the shopping cart by reassigning an\n",
    "empty list to the items attribute."
   ]
  },
  {
   "cell_type": "code",
   "execution_count": 14,
   "metadata": {},
   "outputs": [
    {
     "name": "stdout",
     "output_type": "stream",
     "text": [
      "Added 'biscuit' to the shopping cart.\n",
      "Added 'chocolate' to the shopping cart.\n",
      "Items iin the shopping cart\n",
      "-'biscuit'\n",
      "-'chocolate'\n",
      "Removed 'biscuit' from the shopping cart.\n",
      "Items iin the shopping cart\n",
      "-'chocolate'\n",
      "The shopping cart has been cleared.\n"
     ]
    }
   ],
   "source": [
    "class ShoppingCart:\n",
    "    def __init__(self):\n",
    "        self.items = []\n",
    "\n",
    "    def add_item(self, item):\n",
    "        self.items.append(item)\n",
    "        print(f\"Added '{item}' to the shopping cart.\")\n",
    "    \n",
    "    def remove_item(self, item):\n",
    "        if item in self.items:\n",
    "            self.items.remove(item)\n",
    "            print(f\"Removed '{item}' from the shopping cart.\")\n",
    "        else:\n",
    "            print(f\"'{item}' is not in shopping cart\")\n",
    "\n",
    "    def view_cart(self):\n",
    "        if self.items:\n",
    "            print(\"Items iin the shopping cart\")\n",
    "            for item in self.items:\n",
    "                print(f\"-'{item}'\")\n",
    "\n",
    "    def clear_cart(self):\n",
    "        self.items = []\n",
    "        print(\"The shopping cart has been cleared.\")\n",
    "\n",
    "\n",
    "cart = ShoppingCart()\n",
    "\n",
    "cart.add_item(\"biscuit\")\n",
    "cart.add_item(\"chocolate\")\n",
    "cart.view_cart()  # Display items in the cart\n",
    "\n",
    "cart.remove_item(\"biscuit\")\n",
    "cart.view_cart()  # Display updated items after removal\n",
    "\n",
    "cart.clear_cart()\n",
    "cart.view_cart()  # Display cart after clearing\n"
   ]
  },
  {
   "attachments": {},
   "cell_type": "markdown",
   "metadata": {},
   "source": [
    "### 10. Imagine a school management system. You have to design the \"Student\" class using OOP concepts.The “Student” class has the following attributes:\n",
    "a. name: Represents the name of the student.\n",
    "b. age: Represents the age of the student.\n",
    "c. grade: Represents the grade or class of the student.\n",
    "d. student_id: Represents the unique identifier for the student.\n",
    "e. attendance: Represents the attendance record of the student.\n",
    "The class should also include the following methods:\n",
    "a. update_attendance(self, date, status): Updates the attendance record of the\n",
    "student for a given date with the provided status (e.g., present or absent).\n",
    "b. get_attendance(self): Returns the attendance record of the student.\n",
    "c. get_average_attendance(self): Calculates and returns the average\n",
    "attendance percentage of the student based on their attendance record."
   ]
  },
  {
   "cell_type": "code",
   "execution_count": 17,
   "metadata": {},
   "outputs": [
    {
     "name": "stdout",
     "output_type": "stream",
     "text": [
      "Attendance for 2023-11-21 updated: present\n",
      "Attendance for 2023-11-22 updated: absent\n",
      "Attendance for 2023-11-23 updated: present\n",
      "Attendance Record: {'2023-11-21': 'present', '2023-11-22': 'absent', '2023-11-23': 'present'}\n",
      "Average Attendance Percentage: 66.67%\n"
     ]
    }
   ],
   "source": [
    "class Student:\n",
    "    def __init__(self, name, age, grade, student_id):\n",
    "        self.name = name\n",
    "        self.age = age\n",
    "        self.grade = grade\n",
    "        self.student_id = student_id\n",
    "        self.attendance = {}\n",
    "\n",
    "    def update_attendance(self, date, status):\n",
    "        self.attendance[date] = status\n",
    "        print(f\"Attendance for {date} updated: {status}\")\n",
    "\n",
    "    def get_attendance(self):\n",
    "        return self.attendance\n",
    "    \n",
    "    def get_average_attendance(self):\n",
    "        total_days = len(self.attendance)\n",
    "        if total_days == 0:\n",
    "            return 0\n",
    "        present_count = sum(value == 'present' for value in self.attendance.values())\n",
    "        return (present_count / total_days) * 100\n",
    "\n",
    "\n",
    "student1 = Student(\"phanindra sai\", 15, 10, \"S001\")\n",
    "\n",
    "student1.update_attendance(\"2023-11-21\", \"present\")\n",
    "student1.update_attendance(\"2023-11-22\", \"absent\")\n",
    "student1.update_attendance(\"2023-11-23\", \"present\")\n",
    "\n",
    "attendance_record = student1.get_attendance()\n",
    "print(\"Attendance Record:\", attendance_record)\n",
    "\n",
    "average_attendance = student1.get_average_attendance()\n",
    "print(f\"Average Attendance Percentage: {average_attendance:.2f}%\")"
   ]
  },
  {
   "cell_type": "code",
   "execution_count": null,
   "metadata": {},
   "outputs": [],
   "source": []
  }
 ],
 "metadata": {
  "kernelspec": {
   "display_name": "virtual_environment_name",
   "language": "python",
   "name": "virtual_environment_name"
  },
  "language_info": {
   "codemirror_mode": {
    "name": "ipython",
    "version": 3
   },
   "file_extension": ".py",
   "mimetype": "text/x-python",
   "name": "python",
   "nbconvert_exporter": "python",
   "pygments_lexer": "ipython3",
   "version": "3.10.12"
  },
  "orig_nbformat": 4
 },
 "nbformat": 4,
 "nbformat_minor": 2
}
