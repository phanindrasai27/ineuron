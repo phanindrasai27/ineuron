{
 "cells": [
  {
   "attachments": {},
   "cell_type": "markdown",
   "metadata": {},
   "source": [
    "### 1. In Python, what is the difference between a built-in function and a user-defined function? Provide an example of each."
   ]
  },
  {
   "cell_type": "code",
   "execution_count": 2,
   "metadata": {},
   "outputs": [
    {
     "name": "stdout",
     "output_type": "stream",
     "text": [
      "5\n",
      "Hello, phani!\n"
     ]
    }
   ],
   "source": [
    "# Difference between Built-in and User-defined functions:\n",
    "# Built-in functions: These are functions that are pre-defined in Python and are readily available for use without needing to be defined. Examples include print(), len(), max(), min(), etc.\n",
    "\n",
    "#example\n",
    "print(len(\"Hello\"))\n",
    "\n",
    "# User-defined functions: These are functions created by users as needed, using the def keyword followed by the function name and block of code.\n",
    "\n",
    "#example of user-defined functions\n",
    "def greet(name):\n",
    "    return f\"Hello, {name}!\"\n",
    "\n",
    "print(greet(\"phani\"))"
   ]
  },
  {
   "attachments": {},
   "cell_type": "markdown",
   "metadata": {},
   "source": [
    "### 2. How can you pass arguments to a function in Python? Explain the difference between positional arguments and keyword arguments."
   ]
  },
  {
   "cell_type": "code",
   "execution_count": 3,
   "metadata": {},
   "outputs": [
    {
     "name": "stdout",
     "output_type": "stream",
     "text": [
      "8\n",
      "5.0\n"
     ]
    }
   ],
   "source": [
    "# Positional arguments: These are arguments passed to a function based on their positions or order in the function definition.\n",
    "# example\n",
    "def add(a, b):\n",
    "    return a + b\n",
    "\n",
    "print(add(3, 5))\n",
    "\n",
    "# Keyword arguments: These are arguments passed with a keyword identifier, allowing them to be explicitly assigned to parameters.\n",
    "# example\n",
    "def divide(dividend, divisor):\n",
    "    return dividend / divisor\n",
    "\n",
    "print(divide(dividend=10, divisor=2))"
   ]
  },
  {
   "attachments": {},
   "cell_type": "markdown",
   "metadata": {},
   "source": [
    "### 3. What is the purpose of the return statement in a function? Can a function have multiple return statements? Explain with an example."
   ]
  },
  {
   "cell_type": "code",
   "execution_count": 4,
   "metadata": {},
   "outputs": [
    {
     "name": "stdout",
     "output_type": "stream",
     "text": [
      "5\n"
     ]
    }
   ],
   "source": [
    "# Return statement in a function:\n",
    "# The return statement in a function is used to exit the function and optionally return a value to the calling code.\n",
    "# A function can have multiple return statements. Once a return statement is executed, the function exits.\n",
    "# example\n",
    "def absolute_value(num):\n",
    "    if num >= 0:\n",
    "        return num\n",
    "    else:\n",
    "        return -num\n",
    "\n",
    "print(absolute_value(-5))"
   ]
  },
  {
   "attachments": {},
   "cell_type": "markdown",
   "metadata": {},
   "source": [
    "### 4. What are lambda functions in Python? How are they different from regular functions? Provide an example where a lambda function can be useful."
   ]
  },
  {
   "cell_type": "code",
   "execution_count": 5,
   "metadata": {},
   "outputs": [
    {
     "name": "stdout",
     "output_type": "stream",
     "text": [
      "16\n"
     ]
    }
   ],
   "source": [
    "# Lambda functions:\n",
    "# Lambda functions are small, anonymous functions defined using the lambda keyword. They can have any number of arguments but only one expression.\n",
    "# example\n",
    "square = lambda x: x ** 2\n",
    "print(square(4))\n",
    "# They're useful for short functions, especially when passing a simple function as an argument to another function."
   ]
  },
  {
   "attachments": {},
   "cell_type": "markdown",
   "metadata": {},
   "source": [
    "### 5. How does the concept of \"scope\" apply to functions in Python? Explain the difference between local scope and global scope.\n"
   ]
  },
  {
   "cell_type": "code",
   "execution_count": 6,
   "metadata": {},
   "outputs": [
    {
     "name": "stdout",
     "output_type": "stream",
     "text": [
      "I am a global variable\n",
      "I am a global variable\n"
     ]
    }
   ],
   "source": [
    "# Local scope: Variables defined inside a function are local to that function and can't be accessed from outside.\n",
    "# Global scope: Variables defined outside any function are global and can be accessed anywhere in the code.\n",
    "# example\n",
    "global_var = \"I am a global variable\"\n",
    "\n",
    "def my_function():\n",
    "    local_var = \"I am a local variable\"\n",
    "    print(global_var)  # Accessing global variable inside function\n",
    "\n",
    "my_function()\n",
    "print(global_var)  # Accessing global variable outside function"
   ]
  },
  {
   "attachments": {},
   "cell_type": "markdown",
   "metadata": {},
   "source": [
    "### 6. How can you use the \"return\" statement in a Python function to return multiple values?"
   ]
  },
  {
   "cell_type": "code",
   "execution_count": 7,
   "metadata": {},
   "outputs": [
    {
     "name": "stdout",
     "output_type": "stream",
     "text": [
      "11\n",
      "5\n"
     ]
    }
   ],
   "source": [
    "# Returning multiple values from a function:\n",
    "# In Python, you can return multiple values from a function by separating them with commas in the return statement. These values are returned as a tuple and can be unpacked when calling the function.\n",
    "def calculate_values(x, y):\n",
    "    addition = x + y\n",
    "    subtraction = x - y\n",
    "    return addition, subtraction\n",
    "\n",
    "result1, result2 = calculate_values(8, 3)\n",
    "print(result1)\n",
    "print(result2)"
   ]
  },
  {
   "attachments": {},
   "cell_type": "markdown",
   "metadata": {},
   "source": [
    "### 7. What is the difference between the \"pass by value\" and \"pass by reference\" concepts when it comes to function arguments in Python?"
   ]
  },
  {
   "attachments": {},
   "cell_type": "markdown",
   "metadata": {},
   "source": [
    "Pass by value vs. pass by reference in Python:\n",
    "\n",
    "In Python, arguments are passed by object reference.\n",
    "\n",
    "Pass by value: It involves creating a copy of the actual value and passing it to the function. Changes made to the function parameter do not affect the original variable.\n",
    "\n",
    "Pass by reference: It involves passing the reference/address of the variable. Changes made to the function parameter affect the original variable.\n",
    "\n",
    "However, Python doesn't strictly follow either pass by value or pass by reference; it uses a combination called \"pass by object reference.\"\n"
   ]
  },
  {
   "attachments": {},
   "cell_type": "markdown",
   "metadata": {},
   "source": [
    "### 8. Create a function that can intake integer or decimal value and do following operations:\n",
    "a. Logarithmic function (log x)\n",
    "\n",
    "b. Exponential function (exp(x))\n",
    "\n",
    "c. Power function with base 2 (2x)\n",
    "\n",
    "d. Square root"
   ]
  },
  {
   "cell_type": "code",
   "execution_count": 8,
   "metadata": {},
   "outputs": [
    {
     "name": "stdout",
     "output_type": "stream",
     "text": [
      "2.302585092994046 22026.465794806718 1024 3.1622776601683795\n"
     ]
    }
   ],
   "source": [
    "# Function for various mathematical operations:\n",
    "import math\n",
    "\n",
    "def math_operations(value):\n",
    "    log_value = math.log(value)\n",
    "    exp_value = math.exp(value)\n",
    "    power_value = 2 ** value\n",
    "    sqrt_value = math.sqrt(value)\n",
    "    return log_value, exp_value, power_value, sqrt_value\n",
    "\n",
    "result1, result2, result3, result4 = math_operations(10)\n",
    "print(result1, result2, result3, result4)"
   ]
  },
  {
   "attachments": {},
   "cell_type": "markdown",
   "metadata": {},
   "source": [
    "### 9. Create a function that takes a full name as an argument and returns first name and last name."
   ]
  },
  {
   "cell_type": "code",
   "execution_count": 9,
   "metadata": {},
   "outputs": [
    {
     "name": "stdout",
     "output_type": "stream",
     "text": [
      "John Doe\n"
     ]
    }
   ],
   "source": [
    "# Function to extract first and last names from a full name:\n",
    "def split_full_name(full_name):\n",
    "    names = full_name.split()\n",
    "    first_name = names[0]\n",
    "    last_name = names[-1] if len(names) > 1 else \"\"\n",
    "    return first_name, last_name\n",
    "\n",
    "fname, lname = split_full_name(\"John Doe\")\n",
    "print(fname, lname)  # Output: John Doe\n"
   ]
  }
 ],
 "metadata": {
  "kernelspec": {
   "display_name": "virtual_environment_name",
   "language": "python",
   "name": "virtual_environment_name"
  },
  "language_info": {
   "codemirror_mode": {
    "name": "ipython",
    "version": 3
   },
   "file_extension": ".py",
   "mimetype": "text/x-python",
   "name": "python",
   "nbconvert_exporter": "python",
   "pygments_lexer": "ipython3",
   "version": "3.10.12"
  },
  "orig_nbformat": 4
 },
 "nbformat": 4,
 "nbformat_minor": 2
}
