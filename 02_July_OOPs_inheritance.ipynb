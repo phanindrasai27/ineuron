{
 "cells": [
  {
   "attachments": {},
   "cell_type": "markdown",
   "metadata": {},
   "source": [
    "### 1. Explain what inheritance is in object-oriented programming and why it is used.\n",
    "\n",
    "Inheritance is a mechanism in object-oriented programming that enables a new class to inherit properties and behaviors from an existing class. The child class can extend or specialize the functionality of the parent class while retaining its characteristics.\n",
    "\n",
    "Four reasons why inheritance is used:\n",
    "\n",
    "CODE REUSABILITY: Inheritance facilitates the reuse of existing code in the child class, reducing redundancy and promoting a more efficient coding process.\n",
    "\n",
    "HIERARCHY AND ORGANIZATION: It assists in organizing code in a hierarchical tree structure, making it easier to manage and understand. Classes inherit and specialize behavior as required.\n",
    "\n",
    "PROMOTES POLYMORPHISM: Through inheritance, polymorphism is enhanced. Now, you can use objects of the child class just like objects of the parent class, allowing for greater flexibility in coding.\n",
    "\n",
    "EASE OF MAINTENANCE: Changes made to the parent class automatically reflect in the child class. This streamlines the process of updating, building, and maintaining the codebase.\n"
   ]
  },
  {
   "attachments": {},
   "cell_type": "markdown",
   "metadata": {},
   "source": [
    "### 2. Discuss the concept of single inheritance and multiple inheritance, highlighting their differences and advantages.\n",
    "\n",
    "\n",
    "SINGLE INHERITENCE:\n",
    "\n",
    "Definition: Single inheritance is a feature in object-oriented programming where a class inherits properties and behavior from only one parent class. Each class can have only one direct parent class, forming a linear hierarchy.\n",
    "\n",
    "\n",
    "ADVANTAGES:\n",
    "Simplicity: Single inheritance simplifies the class hierarchy by maintaining a straightforward parent-child relationship.\n",
    "Ease of Implementation: It's easier to implement and understand since there's no complexity arising from managing multiple parent classes.\n",
    "\n",
    "\n",
    "MULTIPLE INHERITENCE:\n",
    "\n",
    "Definition: Multiple inheritance allows a class to inherit properties and behaviors from more than one parent class. This means a class can have multiple direct parent classes, forming a more complex hierarchy.\n",
    "\n",
    "\n",
    "ADVANTAGES:\n",
    "Increased Flexibility: Multiple inheritance enables a class to inherit features from multiple sources, promoting code reuse and allowing for more diverse behavior.\n",
    "Hierarchical Structuring: It allows for the creation of complex class relationships and provides a more comprehensive way to represent real-world scenarios that involve multiple aspects."
   ]
  },
  {
   "attachments": {},
   "cell_type": "markdown",
   "metadata": {},
   "source": [
    "### 3. Explain the terms \"base class\" and \"derived class\" in the context of inheritance.\n",
    "\n",
    "BASE CLASS:\n",
    "The base class, also called the parent class or superclass, provides the blueprint for inherited properties and behaviors in object-oriented programming.\n",
    "\n",
    "DERIVED CLASS:\n",
    "The derived class, known as the child class or subclass, inherits attributes and methods from the base class while extending or customizing its functionalities."
   ]
  },
  {
   "attachments": {},
   "cell_type": "markdown",
   "metadata": {},
   "source": [
    "### 4. What is the significance of the \"protected\" access modifier in inheritance? How does it differ from \"private\" and \"public\" modifiers?\n",
    "\n",
    "PRIVATE: Members marked as private are only accessible within the class where they are declared. They cannot be accessed or inherited by any subclasses.\n",
    "\n",
    "PROTECTED: Protected members are accessible within the class where they're defined and are also available to any subclasses of that class. They're not accessible outside the class hierarchy.\n",
    "\n",
    "PUBLIC: Public members are accessible from anywhere, both within the class and outside of it, even outside its hierarchy."
   ]
  },
  {
   "attachments": {},
   "cell_type": "markdown",
   "metadata": {},
   "source": [
    "### 5. What is the purpose of the \"super\" keyword in inheritance? Provide an example."
   ]
  },
  {
   "cell_type": "code",
   "execution_count": 2,
   "metadata": {},
   "outputs": [
    {
     "name": "stdout",
     "output_type": "stream",
     "text": [
      "speed: 60\n",
      "Gear: 3\n"
     ]
    }
   ],
   "source": [
    "\n",
    "# the \"super\" keyword in inheritence is used to refer to the immediate parent class of a subclass. its primarily used for access or invoke the superclass's constructor, methods, or properties within the subclass.\n",
    "\n",
    "#example:\n",
    "class Vehicle:\n",
    "    def __init__(self, speed):\n",
    "        self.speed = speed\n",
    "\n",
    "    def display_speed(self):\n",
    "        print(f\"speed: {self.speed}\")\n",
    "\n",
    "# here invoking or using superclass constructor using super()\n",
    "class Car(Vehicle):\n",
    "    def __init__(self, speed, gear):\n",
    "        super().__init__(speed)\n",
    "        self.gear = gear\n",
    "\n",
    "# here accessing superclass method using super()\n",
    "    def display_details(self):\n",
    "        super().display_speed()\n",
    "        print(f\"Gear: {self.gear}\")\n",
    "\n",
    "my_car = Car(60, 3)\n",
    "my_car.display_details()"
   ]
  },
  {
   "attachments": {},
   "cell_type": "markdown",
   "metadata": {},
   "source": [
    "### 6. Create a base class called \"Vehicle\" with attributes like \"make\", \"model\", and \"year\". Then, create a derived class called \"Car\" that inherits from \"Vehicle\" and adds an attribute called \"fuel_type\". Implement appropriate methods in both classes."
   ]
  },
  {
   "cell_type": "code",
   "execution_count": 5,
   "metadata": {},
   "outputs": [
    {
     "name": "stdout",
     "output_type": "stream",
     "text": [
      "make : KIA, model : BENZA, year : 2023\n",
      "Fuel Type : petrol\n"
     ]
    }
   ],
   "source": [
    "class Vehicle:\n",
    "    def __init__(self, make, model, year):\n",
    "        self.make = make\n",
    "        self.model = model\n",
    "        self.year = year\n",
    "\n",
    "    def display_info(self):\n",
    "        print(f\"make : {self.make}, model : {self.model}, year : {self.year}\")\n",
    "\n",
    "# using parent class features \n",
    "class Car(Vehicle):\n",
    "    def __init__(self, make, model, year, fuel_type):\n",
    "        super().__init__(make, model, year)\n",
    "        self.fuel_type = fuel_type\n",
    "\n",
    "# using method of parent class feature to print car details and adding fuel type\n",
    "    def display_car_info(self):\n",
    "        self.display_info()\n",
    "        print(f\"Fuel Type : {self.fuel_type}\")\n",
    "\n",
    "my_car = Car(\"KIA\", \"BENZA\", 2023, \"petrol\")\n",
    "my_car.display_car_info()"
   ]
  },
  {
   "attachments": {},
   "cell_type": "markdown",
   "metadata": {},
   "source": [
    "### 7. Create a base class called \"Employee\" with attributes like \"name\" and \"salary.\" Derive two classes, \"Manager\" and \"Developer,\" from \"Employee.\" Add an additional attribute called \"department\" for the \"Manager\" class and \"programming_language\" for the \"Developer\" class."
   ]
  },
  {
   "cell_type": "code",
   "execution_count": 8,
   "metadata": {},
   "outputs": [
    {
     "name": "stdout",
     "output_type": "stream",
     "text": [
      "name : Phani, salary : 80000\n",
      "department : devops\n",
      "name : akshay, salary : 100000\n",
      "proramming Language : python\n"
     ]
    }
   ],
   "source": [
    "class Employee:\n",
    "    def __init__(self, name, salary):\n",
    "        self.name = name\n",
    "        self.salary = salary\n",
    "\n",
    "    def display_info(self):\n",
    "        print(f\"name : {self.name}, salary : {self.salary}\")\n",
    "\n",
    "# here invoking the name and salary superclass features\n",
    "class Manager(Employee):\n",
    "    def __init__(self, name, salary, department):\n",
    "        super().__init__(name, salary)\n",
    "        self.department = department\n",
    "\n",
    "# here accessing the display_info method from super class\n",
    "    def display_manager_info(self):\n",
    "        self.display_info()\n",
    "        print(f\"department : {self.department}\")\n",
    "    \n",
    "class Developer(Employee):\n",
    "    def __init__(self, name, salary, programming_language):\n",
    "        super().__init__(name, salary)\n",
    "        self.programming_language = programming_language\n",
    "\n",
    "    def display_developer_info(self):\n",
    "        self.display_info()\n",
    "        print(f\"proramming Language : {self.programming_language}\")\n",
    "\n",
    "manager = Manager(\"Phani\", 80000, \"devops\")\n",
    "developer = Developer(\"akshay\", 100000, \"python\")\n",
    "\n",
    "manager.display_manager_info()\n",
    "developer.display_developer_info()"
   ]
  },
  {
   "attachments": {},
   "cell_type": "markdown",
   "metadata": {},
   "source": [
    "### 8. Design a base class called \"Shape\" with attributes like \"colour\" and \"border_width.\" Create derived classes, \"Rectangle\" and \"Circle,\" that inherit from \"Shape\" and add specific attributes like \"length\" and \"width\" for the \"Rectangle\" class and \"radius\" for the \"Circle\" class."
   ]
  },
  {
   "cell_type": "code",
   "execution_count": 10,
   "metadata": {},
   "outputs": [
    {
     "name": "stdout",
     "output_type": "stream",
     "text": [
      "colour : Blue, border_width : 2\n",
      "length : 5, width : 10\n",
      "colour : Red, border_width : 3\n",
      "radius : 7\n"
     ]
    }
   ],
   "source": [
    "class Shape:\n",
    "    def __init__(self, colour, border_width):\n",
    "        self.colour = colour\n",
    "        self.border_width = border_width\n",
    "    \n",
    "    def display_info(self):\n",
    "        print(f\"colour : {self.colour}, border_width : {self.border_width}\")\n",
    "\n",
    "class Rectangle(Shape):\n",
    "    def __init__(self, colour, border_width, length, width):\n",
    "        super().__init__(colour, border_width)\n",
    "        self.length = length\n",
    "        self.width = width\n",
    "\n",
    "    def display_rectangle_info(self):\n",
    "        self.display_info()\n",
    "        print(f\"length : {self.length}, width : {self.width}\")\n",
    "\n",
    "class Circle(Shape):\n",
    "    def __init__(self, colour, border_width, radius):\n",
    "        super().__init__(colour, border_width)\n",
    "        self.radius = radius\n",
    "\n",
    "    def display_circle_info(self):\n",
    "        self.display_info()\n",
    "        print(f\"radius : {self.radius}\")\n",
    "\n",
    "rectangle = Rectangle(\"Blue\", 2, 5, 10)\n",
    "circle = Circle(\"Red\", 3, 7)\n",
    "\n",
    "rectangle.display_rectangle_info()\n",
    "circle.display_circle_info()"
   ]
  },
  {
   "attachments": {},
   "cell_type": "markdown",
   "metadata": {},
   "source": [
    "### 9. Create a base class called \"Device\" with attributes like \"brand\" and \"model.\" Derive two classes, \"Phone\" and \"Tablet,\" from \"Device.\" Add specific attributes like \"screen_size\" for the \"Phone\" class and \"battery_capacity\" for the \"Tablet\" class."
   ]
  },
  {
   "cell_type": "code",
   "execution_count": 12,
   "metadata": {},
   "outputs": [
    {
     "name": "stdout",
     "output_type": "stream",
     "text": [
      "brand : oneplus, model : fold\n",
      "screen_size : 6.2 inches\n",
      "brand : nothing, model : nothing float\n",
      "battery_capacity : 7600 mAh\n"
     ]
    }
   ],
   "source": [
    "class Device:\n",
    "    def __init__(self, brand, model):\n",
    "        self.brand = brand\n",
    "        self.model = model\n",
    "    \n",
    "    def display_info(self):\n",
    "        print(f\"brand : {self.brand}, model : {self.model}\")\n",
    "\n",
    "class Phone(Device):\n",
    "    def __init__(self, brand, model, screen_size):\n",
    "        super().__init__(brand, model)\n",
    "        self.screen_size = screen_size\n",
    "\n",
    "    def display_phone_info(self):\n",
    "        self.display_info()\n",
    "        print(f\"screen_size : {self.screen_size}\")\n",
    "\n",
    "class Tablet(Device):\n",
    "    def __init__(self, brand, model, battery_capacity):\n",
    "        super().__init__(brand, model)\n",
    "        self.battery_capacity = battery_capacity\n",
    "\n",
    "    def display_tablet_info(self):\n",
    "        self.display_info()\n",
    "        print(f\"battery_capacity : {self.battery_capacity}\")\n",
    "\n",
    "phone = Phone(\"oneplus\", \"fold\", \"6.2 inches\")\n",
    "tablet = Tablet(\"nothing\", \"nothing float\", \"7600 mAh\")\n",
    "\n",
    "phone.display_phone_info()\n",
    "tablet.display_tablet_info()\n"
   ]
  },
  {
   "attachments": {},
   "cell_type": "markdown",
   "metadata": {},
   "source": [
    "### 10. Create a base class called \"BankAccount\" with attributes like \"account_number\" and \"balance.\" Derive two classes, \"SavingsAccount\" and \"CheckingAccount,\" from \"BankAccount.\" Add specific methods like \"calculate_interest\" for the \"SavingsAccount\" class and \"deduct_fees\" for the \"CheckingAccount\" class.\n",
    "\n"
   ]
  },
  {
   "cell_type": "code",
   "execution_count": 13,
   "metadata": {},
   "outputs": [
    {
     "name": "stdout",
     "output_type": "stream",
     "text": [
      "Interest calculated: 175.00000000000003\n",
      "Account Number: 12345, Balance: 5175.0\n",
      "Fees deducted: 25\n",
      "Account Number: 67890, Balance: 2975\n"
     ]
    }
   ],
   "source": [
    "class BankAccount:\n",
    "    def __init__(self, account_number, balance):\n",
    "        self.account_number = account_number\n",
    "        self.balance = balance\n",
    "\n",
    "    def display_info(self):\n",
    "        print(f\"Account Number: {self.account_number}, Balance: {self.balance}\")\n",
    "\n",
    "\n",
    "class SavingsAccount(BankAccount):\n",
    "    def calculate_interest(self, rate):\n",
    "        interest = self.balance * (rate / 100)\n",
    "        self.balance += interest\n",
    "        print(f\"Interest calculated: {interest}\")\n",
    "    \n",
    "    def display_savings_info(self):\n",
    "        self.display_info()  # Using method from the base class\n",
    "\n",
    "\n",
    "class CheckingAccount(BankAccount):\n",
    "    def deduct_fees(self, fee):\n",
    "        self.balance -= fee\n",
    "        print(f\"Fees deducted: {fee}\")\n",
    "    \n",
    "    def display_checking_info(self):\n",
    "        self.display_info()  # Using method from the base class\n",
    "\n",
    "\n",
    "savings = SavingsAccount(\"12345\", 5000)\n",
    "checking = CheckingAccount(\"67890\", 3000)\n",
    "\n",
    "savings.calculate_interest(3.5)\n",
    "savings.display_savings_info()\n",
    "\n",
    "checking.deduct_fees(25)\n",
    "checking.display_checking_info()\n"
   ]
  }
 ],
 "metadata": {
  "kernelspec": {
   "display_name": "virtual_environment_name",
   "language": "python",
   "name": "virtual_environment_name"
  },
  "language_info": {
   "codemirror_mode": {
    "name": "ipython",
    "version": 3
   },
   "file_extension": ".py",
   "mimetype": "text/x-python",
   "name": "python",
   "nbconvert_exporter": "python",
   "pygments_lexer": "ipython3",
   "version": "3.10.12"
  },
  "orig_nbformat": 4
 },
 "nbformat": 4,
 "nbformat_minor": 2
}
