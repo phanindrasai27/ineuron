{
 "cells": [
  {
   "attachments": {},
   "cell_type": "markdown",
   "metadata": {},
   "source": [
    "### 1. What is the role of try and exception block?\n",
    "\n",
    "Role of try-except block:\n",
    "\n",
    "The try block allows you to test a block of code for errors.\n",
    "\n",
    "The except block allows you to handle the error that occurs in the try block.\n",
    "\n",
    "It helps in gracefully handling exceptions or errors that might occur during program execution."
   ]
  },
  {
   "attachments": {},
   "cell_type": "markdown",
   "metadata": {},
   "source": [
    "### 2. What is the syntax for a basic try-except block?"
   ]
  },
  {
   "cell_type": "code",
   "execution_count": 2,
   "metadata": {},
   "outputs": [
    {
     "name": "stdout",
     "output_type": "stream",
     "text": [
      "Error: Division by zero is not allowed. division by zero\n"
     ]
    }
   ],
   "source": [
    "try:\n",
    "    dividend = int(input(\"Enter the dividend: \"))\n",
    "    divisor = int(input(\"Enter the divisor: \"))\n",
    "    result = dividend / divisor\n",
    "    print(f\"The result of division is: {result}\")\n",
    "except ZeroDivisionError as e:\n",
    "    print(\"Error: Division by zero is not allowed.\", e)"
   ]
  },
  {
   "attachments": {},
   "cell_type": "markdown",
   "metadata": {},
   "source": [
    "### 3. What happens if an exception occurs inside a try block and there is no matching except block?\n",
    "\n",
    "\n",
    "Handling an uncaught exception in a try block:\n",
    "\n",
    "If an exception occurs inside a try block and there is no matching except block to handle that specific exception type, the program execution stops, and Python's default exception message is displayed."
   ]
  },
  {
   "attachments": {},
   "cell_type": "markdown",
   "metadata": {},
   "source": [
    "### 4. What is the difference between using a bare except block and specifying a specific exception type?\n",
    "\n",
    "\n",
    "Difference between bare except and specific exception:\n",
    "\n",
    "Using a bare except block (except:) catches any exception, which can be risky as it might hide unexpected errors or bugs.\n",
    "\n",
    "Specifying a specific exception type (e.g., except ValueError:) catches only the specified exception, allowing better control and handling for that particular type of error."
   ]
  },
  {
   "attachments": {},
   "cell_type": "markdown",
   "metadata": {},
   "source": [
    "### 5. Can you have nested try-except blocks in Python? If yes, then give an example."
   ]
  },
  {
   "cell_type": "code",
   "execution_count": 4,
   "metadata": {},
   "outputs": [
    {
     "name": "stdout",
     "output_type": "stream",
     "text": [
      "Cannot divide by zero.\n"
     ]
    }
   ],
   "source": [
    "try:\n",
    "    try:\n",
    "        # Inner try block\n",
    "        number = int(input(\"Enter a number: \"))\n",
    "        result = 10 / number\n",
    "    except ValueError:\n",
    "        print(\"Please enter a valid number.\")\n",
    "    except ZeroDivisionError:\n",
    "        print(\"Cannot divide by zero.\")\n",
    "except Exception as e:\n",
    "    print(\"Outer exception occurred:\", e)"
   ]
  },
  {
   "attachments": {},
   "cell_type": "markdown",
   "metadata": {},
   "source": [
    "### 6. Can we use multiple exception blocks, if yes then give an example.\n"
   ]
  },
  {
   "cell_type": "code",
   "execution_count": 7,
   "metadata": {},
   "outputs": [
    {
     "name": "stdout",
     "output_type": "stream",
     "text": [
      "ValueError occurred: Age cannot be negative\n"
     ]
    }
   ],
   "source": [
    "try:\n",
    "    age = int(input(\"Enter your age: \"))\n",
    "    if age < 0:\n",
    "        raise ValueError(\"Age cannot be negative\")\n",
    "    elif age < 18:\n",
    "        raise ValueError(\"You must be 18 or older\")\n",
    "except ValueError as ve:\n",
    "    print(\"ValueError occurred:\", ve)\n",
    "except Exception as e:\n",
    "    print(\"Some other exception occurred:\", e)"
   ]
  },
  {
   "attachments": {},
   "cell_type": "markdown",
   "metadata": {},
   "source": [
    "### 7. Write the reason due to which following errors are raised:\n",
    "a. EOFError\n",
    "\n",
    "b. FloatingPointError\n",
    "\n",
    "c. IndexError\n",
    "\n",
    "d. MemoryError\n",
    "\n",
    "e. OverflowError\n",
    "\n",
    "f. TabError\n",
    "\n",
    "g. ValueError\n",
    "\n",
    "Reasons for the errors:\n",
    "\n",
    "EOFError: Raised when the input() function hits an end-of-file condition (no more input to read).\n",
    "\n",
    "FloatingPointError: Raised when a floating-point operation fails to execute.\n",
    "\n",
    "IndexError: Raised when a sequence (list, tuple, etc.) index is out of range.\n",
    "\n",
    "MemoryError: Raised when an operation runs out of memory.\n",
    "OverflowError: Raised when a calculation exceeds the maximum limit for a numeric type.\n",
    "\n",
    "TabError: Raised when inconsistent use of tabs and spaces in indentation is encountered.\n",
    "\n",
    "ValueError: Raised when a built-in operation or function receives an argument of the correct type but an inappropriate value."
   ]
  },
  {
   "attachments": {},
   "cell_type": "markdown",
   "metadata": {},
   "source": [
    "### 8. Write code for the following given scenario and add try-exception block to it.\n",
    "a. Program to divide two numbers\n",
    "\n",
    "b. Program to convert a string to an integer\n",
    "\n",
    "c. Program to access an element in a list\n",
    "\n",
    "d. Program to handle a specific exception\n",
    "\n",
    "e. Program to handle any exception"
   ]
  },
  {
   "cell_type": "code",
   "execution_count": 8,
   "metadata": {},
   "outputs": [
    {
     "name": "stdout",
     "output_type": "stream",
     "text": [
      "Error: Division by zero is not allowed. division by zero\n"
     ]
    }
   ],
   "source": [
    "# Program to divide two numbers:\n",
    "try:\n",
    "    dividend = int(input(\"Enter the dividend: \"))\n",
    "    divisor = int(input(\"Enter the divisor: \"))\n",
    "    result = dividend / divisor\n",
    "    print(f\"The result of division is: {result}\")\n",
    "except ZeroDivisionError as e:\n",
    "    print(\"Error: Division by zero is not allowed.\", e)\n",
    "except ValueError as e:\n",
    "    print(\"Error: Please enter valid integer values.\", e)\n",
    "except Exception as e:\n",
    "    print(\"An unexpected error occurred:\", e)"
   ]
  },
  {
   "cell_type": "code",
   "execution_count": 12,
   "metadata": {},
   "outputs": [
    {
     "name": "stdout",
     "output_type": "stream",
     "text": [
      "Error: Could not convert to integer. Please enter a valid number. invalid literal for int() with base 10: 'a'\n"
     ]
    }
   ],
   "source": [
    "# Program to convert a string to an integer:\n",
    "\n",
    "try:\n",
    "    num_str = input(\"Enter a number: \")\n",
    "    num = int(num_str)\n",
    "    print(\"Successfully converted to integer:\", num)\n",
    "except ValueError as e:\n",
    "    print(\"Error: Could not convert to integer. Please enter a valid number.\", e)"
   ]
  },
  {
   "cell_type": "code",
   "execution_count": 14,
   "metadata": {},
   "outputs": [
    {
     "name": "stdout",
     "output_type": "stream",
     "text": [
      "Value at index: 3\n"
     ]
    }
   ],
   "source": [
    "# Program to access an element in a list:\n",
    "\n",
    "try:\n",
    "    my_list = [1, 2, 3]\n",
    "    index = int(input(\"Enter an index: \"))\n",
    "    value = my_list[index]\n",
    "    print(\"Value at index:\", value)\n",
    "except IndexError as e:\n",
    "    print(\"Error: Index out of range. Please enter a valid index.\", e)"
   ]
  },
  {
   "cell_type": "code",
   "execution_count": 15,
   "metadata": {},
   "outputs": [
    {
     "name": "stdout",
     "output_type": "stream",
     "text": [
      "Caught the specific exception: This is a specific exception.\n"
     ]
    }
   ],
   "source": [
    "# Program to handle a specific exception:\n",
    "\n",
    "try:\n",
    "    # Some operation raising a specific exception\n",
    "    raise ValueError(\"This is a specific exception.\")\n",
    "except ValueError as e:\n",
    "    print(\"Caught the specific exception:\", e)"
   ]
  },
  {
   "cell_type": "code",
   "execution_count": 16,
   "metadata": {},
   "outputs": [
    {
     "name": "stdout",
     "output_type": "stream",
     "text": [
      "An exception occurred: division by zero\n"
     ]
    }
   ],
   "source": [
    "# Program to handle any exception:\n",
    "\n",
    "try:\n",
    "    # Some code that may raise any type of exception\n",
    "    num = 10 / 0  # This will raise a ZeroDivisionError\n",
    "except Exception as e:\n",
    "    print(\"An exception occurred:\", e)"
   ]
  }
 ],
 "metadata": {
  "kernelspec": {
   "display_name": "virtual_environment_name",
   "language": "python",
   "name": "virtual_environment_name"
  },
  "language_info": {
   "codemirror_mode": {
    "name": "ipython",
    "version": 3
   },
   "file_extension": ".py",
   "mimetype": "text/x-python",
   "name": "python",
   "nbconvert_exporter": "python",
   "pygments_lexer": "ipython3",
   "version": "3.10.12"
  },
  "orig_nbformat": 4
 },
 "nbformat": 4,
 "nbformat_minor": 2
}
