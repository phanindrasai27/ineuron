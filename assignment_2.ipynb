{
 "cells": [
  {
   "attachments": {},
   "cell_type": "markdown",
   "metadata": {},
   "source": [
    "### 1.What are the two values of the Boolean data type? How do you write them?\n",
    "\n",
    "Values of the Boolean Data Type:\n",
    "\n",
    "The two values of the Boolean data type are True and False.\n",
    "\n",
    "They are written exactly as shown: True and False."
   ]
  },
  {
   "attachments": {},
   "cell_type": "markdown",
   "metadata": {},
   "source": [
    "### 2. What are the three different types of Boolean operators?\n",
    "\n",
    "Three Different Types of Boolean Operators:\n",
    "\n",
    "AND: This operator returns True if both operands are True, otherwise False.\n",
    "\n",
    "OR: This operator returns True if at least one operand is True, otherwise False.\n",
    "\n",
    "NOT: This operator returns the opposite Boolean value. For instance, not True evaluates to False and not False evaluates to True.\n"
   ]
  },
  {
   "attachments": {},
   "cell_type": "markdown",
   "metadata": {},
   "source": [
    "### 3. Make a list of each Boolean operator&#39;s truth tables (i.e. every possible combination of Boolean values for the operator and what it evaluate )."
   ]
  },
  {
   "cell_type": "code",
   "execution_count": 1,
   "metadata": {},
   "outputs": [],
   "source": [
    "# Truth Tables for Boolean Operators:\n",
    "\n",
    "#  AND Truth Table:\n",
    "\n",
    "# A\t      B\t   A AND B\n",
    "# False\tFalse\tFalse\n",
    "# False\tTrue\tFalse\n",
    "# True\tFalse\tFalse\n",
    "# True\tTrue\tTrue \n",
    "\n",
    "# OR Truth Table:\n",
    "\n",
    "# A\t      B \tA OR B\n",
    "# False\tFalse\tFalse\n",
    "# False\tTrue\tTrue\n",
    "# True\tFalse\tTrue\n",
    "# True\tTrue\tTrue\n",
    "\n",
    "\n",
    "# NOT Truth Table:\n",
    "\n",
    "# A\t    NOT A\n",
    "# False\tTrue\n",
    "# True\tFalse"
   ]
  },
  {
   "attachments": {},
   "cell_type": "markdown",
   "metadata": {},
   "source": [
    "### 4. What are the values of the following expressions?\n",
    "(5 &gt; 4) and (3 == 5)\n",
    "not (5 &gt; 4)\n",
    "(5 &gt; 4) or (3 == 5)\n",
    "not ((5 &gt; 4) or (3 == 5))\n",
    "(True and True) and (True == False)\n",
    "(not False) or (not True)\n",
    "\n",
    "Values of the Given Expressions:\n",
    "\n",
    "(5 > 4) and (3 == 5) evaluates to False\n",
    "\n",
    "not (5 > 4) evaluates to False\n",
    "\n",
    "(5 > 4) or (3 == 5) evaluates to True\n",
    "\n",
    "not ((5 > 4) or (3 == 5)) evaluates to False\n",
    "\n",
    "(True and True) and (True == False) evaluates to False\n",
    "\n",
    "(not False) or (not True) evaluates to True\n"
   ]
  },
  {
   "attachments": {},
   "cell_type": "markdown",
   "metadata": {},
   "source": [
    "### 5. What are the six comparison operators?\n",
    "\n",
    "Six Comparison Operators:\n",
    "\n",
    "Greater Than: >\n",
    "\n",
    "Greater Than or Equal To: >=\n",
    "\n",
    "Less Than: <\n",
    "\n",
    "Less Than or Equal To: <=\n",
    "\n",
    "Equal To: ==\n",
    "\n",
    "Not Equal To: !=\n"
   ]
  },
  {
   "attachments": {},
   "cell_type": "markdown",
   "metadata": {},
   "source": [
    "### 6. How do you tell the difference between the equal to and assignment operators?Describe a condition and when you would use one.\n"
   ]
  },
  {
   "cell_type": "code",
   "execution_count": 2,
   "metadata": {},
   "outputs": [
    {
     "name": "stdout",
     "output_type": "stream",
     "text": [
      "Value of x is 10\n"
     ]
    }
   ],
   "source": [
    "# Difference between Equal To and Assignment Operators:\n",
    "\n",
    "# The equal to operator == is used for comparison. It checks whether two values are equal.\n",
    "# The assignment operator = is used to assign a value to a variable.\n",
    "# For instance:\n",
    "# x = 5 assigns the value 5 to the variable x.\n",
    "# x == 5 checks if the value stored in x is equal to 5.\n",
    "\n",
    "\n",
    "# example \n",
    "x = 10\n",
    "if x == 10:\n",
    "    print(\"Value of x is 10\")\n"
   ]
  },
  {
   "attachments": {},
   "cell_type": "markdown",
   "metadata": {},
   "source": [
    "### 7. Identify the three blocks in this code:\n",
    "spam = 0\n",
    "if spam == 10:\n",
    "print('eggs')\n",
    "if spam ' 5:\n",
    "print('bacon')\n",
    "else:\n",
    "print('ham')\n",
    "print('spam')\n",
    "print('spam')"
   ]
  },
  {
   "cell_type": "code",
   "execution_count": 3,
   "metadata": {},
   "outputs": [
    {
     "name": "stdout",
     "output_type": "stream",
     "text": [
      "ham\n",
      "spam\n",
      "spam\n"
     ]
    }
   ],
   "source": [
    "# block-1\n",
    "spam = 0\n",
    "\n",
    "\n",
    "# block-2\n",
    "if spam == 10:\n",
    "    print('eggs')\n",
    "if spam > 5:\n",
    "    print('bacon')\n",
    "else:\n",
    "    print('ham')\n",
    "\n",
    "# block-3\n",
    "print('spam')\n",
    "print('spam')"
   ]
  },
  {
   "attachments": {},
   "cell_type": "markdown",
   "metadata": {},
   "source": [
    "### 8. Write code that prints Hello if 1 is stored in spam, prints Howdy if 2 is stored in spam, and prints Greetings! if anything else is stored in spam.\n",
    "\n"
   ]
  },
  {
   "cell_type": "code",
   "execution_count": 4,
   "metadata": {},
   "outputs": [
    {
     "name": "stdout",
     "output_type": "stream",
     "text": [
      "Howdy\n"
     ]
    }
   ],
   "source": [
    "spam = 2 \n",
    "\n",
    "if spam == 1:\n",
    "    print('Hello')\n",
    "elif spam == 2:\n",
    "    print('Howdy')\n",
    "else:\n",
    "    print('Greetings!')"
   ]
  },
  {
   "attachments": {},
   "cell_type": "markdown",
   "metadata": {},
   "source": [
    "### 9.If your programme is stuck in an endless loop, what keys you’ll press?\n",
    "\n",
    "Exiting an Endless Loop:\n",
    "\n",
    "If your program is stuck in an endless loop, you can typically interrupt it by pressing Ctrl + C on most systems (Windows, Linux, macOS). This key combination sends an interrupt signal to the program, causing it to terminate."
   ]
  },
  {
   "attachments": {},
   "cell_type": "markdown",
   "metadata": {},
   "source": [
    "### 10. How can you tell the difference between break and continue?\n",
    "\n",
    "Difference between break and continue:\n",
    "\n",
    "break: It terminates the loop it is currently in and resumes execution at the next statement after the loop.\n",
    "\n",
    "continue: It skips the remaining code inside the loop for the current iteration and moves to the next iteration of the loop."
   ]
  },
  {
   "attachments": {},
   "cell_type": "markdown",
   "metadata": {},
   "source": [
    "### 11. In a for loop, what is the difference between range(10), range(0, 10), and range(0, 10, 1)?\n",
    "\n",
    "range(10): Generates numbers from 0 to 9. The default starting point is 0, and it generates numbers up to (but not including) the specified number.\n",
    "\n",
    "range(0, 10): This is identical to range(10). It also generates numbers from 0 to 9.\n",
    "\n",
    "range(0, 10, 1): Generates numbers from 0 to 9, incrementing by 1. The third parameter specifies the step value.\n"
   ]
  },
  {
   "attachments": {},
   "cell_type": "markdown",
   "metadata": {},
   "source": [
    "### 12. Write a short program that prints the numbers 1 to 10 using a for loop. Then write an equivalent program that prints the numbers 1 to 10 using a while loop."
   ]
  },
  {
   "cell_type": "code",
   "execution_count": 5,
   "metadata": {},
   "outputs": [
    {
     "name": "stdout",
     "output_type": "stream",
     "text": [
      "1\n",
      "2\n",
      "3\n",
      "4\n",
      "5\n",
      "6\n",
      "7\n",
      "8\n",
      "9\n",
      "10\n",
      "1\n",
      "2\n",
      "3\n",
      "4\n",
      "5\n",
      "6\n",
      "7\n",
      "8\n",
      "9\n",
      "10\n"
     ]
    }
   ],
   "source": [
    "# using for loop\n",
    "# Using a for loop\n",
    "for num in range(1, 11):\n",
    "    print(num)\n",
    "\n",
    "# using while loop\n",
    "# Using a while loop\n",
    "num = 1\n",
    "while num <= 10:\n",
    "    print(num)\n",
    "    num += 1"
   ]
  },
  {
   "attachments": {},
   "cell_type": "markdown",
   "metadata": {},
   "source": [
    "### 13. If you had a function named bacon() inside a module named spam, how would you call it after importing spam?\n",
    "\n"
   ]
  },
  {
   "cell_type": "code",
   "execution_count": 7,
   "metadata": {},
   "outputs": [],
   "source": [
    "# If you have a function named bacon() inside a module named spam, after importing spam, you can call the bacon() function using the dot notation:\n",
    "\n",
    "# example\n",
    "#import spam\n",
    "#spam.bacon()"
   ]
  }
 ],
 "metadata": {
  "kernelspec": {
   "display_name": "virtual_environment_name",
   "language": "python",
   "name": "virtual_environment_name"
  },
  "language_info": {
   "codemirror_mode": {
    "name": "ipython",
    "version": 3
   },
   "file_extension": ".py",
   "mimetype": "text/x-python",
   "name": "python",
   "nbconvert_exporter": "python",
   "pygments_lexer": "ipython3",
   "version": "3.10.12"
  },
  "orig_nbformat": 4
 },
 "nbformat": 4,
 "nbformat_minor": 2
}
