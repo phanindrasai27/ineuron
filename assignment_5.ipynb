{
 "cells": [
  {
   "attachments": {},
   "cell_type": "markdown",
   "metadata": {},
   "source": [
    "### 1. What does an empty dictionary&#39;s code look like?"
   ]
  },
  {
   "cell_type": "code",
   "execution_count": 1,
   "metadata": {},
   "outputs": [],
   "source": [
    "# Empty dictionary representation:\n",
    "# An empty dictionary is represented by a pair of curly braces with no key-value pairs inside.\n",
    "empty_dict = {}"
   ]
  },
  {
   "attachments": {},
   "cell_type": "markdown",
   "metadata": {},
   "source": [
    "### 2. What is the value of a dictionary value with the key &#39;foo&#39; and the value 42?"
   ]
  },
  {
   "cell_type": "code",
   "execution_count": 2,
   "metadata": {},
   "outputs": [],
   "source": [
    "# Value of dictionary with key 'foo' and value 42:\n",
    "# If a dictionary my_dict has the key 'foo' with the value 42, it would be represented as:\n",
    "my_dict = {'foo': 42}"
   ]
  },
  {
   "attachments": {},
   "cell_type": "markdown",
   "metadata": {},
   "source": [
    "### 3. What is the most significant distinction between a dictionary and a list?\n",
    "\n",
    "\n",
    "Significant distinction between dictionary and list:\n",
    "\n",
    "A dictionary is an unordered collection of key-value pairs, accessed by keys.\n",
    "\n",
    "A list is an ordered collection of items accessed by indices.\n"
   ]
  },
  {
   "attachments": {},
   "cell_type": "markdown",
   "metadata": {},
   "source": [
    "### 4. What happens if you try to access spam[&#39;foo&#39;] if spam is {\"bar\": 100}?\n",
    "\n",
    "\n",
    "Accessing a key that doesn't exist in a dictionary:\n",
    "\n",
    "If you try to access spam['foo'] where spam is { 'bar': 100 }, it will raise a KeyError because the key 'foo' doesn't exist in the dictionary."
   ]
  },
  {
   "attachments": {},
   "cell_type": "markdown",
   "metadata": {},
   "source": [
    "### 5. If a dictionary is stored in spam, what is the difference between the expressions &#39;cat&#39; in spam and \"cat\" in spam.keys()?\n",
    "\n",
    "Difference between 'cat' in spam and 'cat' in spam.keys():\n",
    "\n",
    "cat in spam checks whether the key 'cat' exists in the dictionary spam.\n",
    "\n",
    "cat in spam.keys() specifically checks if the dictionary keys contain the value 'cat'.\n"
   ]
  },
  {
   "attachments": {},
   "cell_type": "markdown",
   "metadata": {},
   "source": [
    "### 6. If a dictionary is stored in spam, what is the difference between the expressions \"cat\" in spam and \"cat\" in spam.values()?\n",
    "\n",
    "Difference between 'cat' in spam and 'cat' in spam.values():\n",
    "\n",
    "cat in spam checks whether the key 'cat' exists in the dictionary spam.\n",
    "\n",
    "cat in spam.values() checks if any value in the dictionary spam is equal to 'cat'."
   ]
  },
  {
   "attachments": {},
   "cell_type": "markdown",
   "metadata": {},
   "source": [
    "### 7. What is a shortcut for the following code?\n",
    "if \"color\" not in spam:\n",
    "\n",
    "spam[\"color\"] = \"black\"\n",
    "\n",
    "Shortcut for adding a key-value pair if the key doesn't exist:\n",
    "\n",
    "Use the setdefault() method:\n",
    "\n",
    "spam.setdefault('color', 'black')"
   ]
  },
  {
   "attachments": {},
   "cell_type": "markdown",
   "metadata": {},
   "source": [
    "### 8. How do you &quot;pretty print&quot; dictionary values using which module and function?"
   ]
  },
  {
   "cell_type": "code",
   "execution_count": 4,
   "metadata": {},
   "outputs": [
    {
     "name": "stdout",
     "output_type": "stream",
     "text": [
      "{'a': 1, 'b': 2, 'c': 3}\n"
     ]
    }
   ],
   "source": [
    "# Pretty printing dictionary values using a module and function:\n",
    "# You can use the pprint module's pprint() function to pretty print dictionary values:\n",
    "\n",
    "import pprint\n",
    "my_dict = {'a': 1, 'b': 2, 'c': 3}\n",
    "pprint.pprint(my_dict)"
   ]
  }
 ],
 "metadata": {
  "kernelspec": {
   "display_name": "virtual_environment_name",
   "language": "python",
   "name": "virtual_environment_name"
  },
  "language_info": {
   "codemirror_mode": {
    "name": "ipython",
    "version": 3
   },
   "file_extension": ".py",
   "mimetype": "text/x-python",
   "name": "python",
   "nbconvert_exporter": "python",
   "pygments_lexer": "ipython3",
   "version": "3.10.12"
  },
  "orig_nbformat": 4
 },
 "nbformat": 4,
 "nbformat_minor": 2
}
