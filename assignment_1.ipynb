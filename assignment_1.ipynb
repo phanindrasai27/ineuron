{
 "cells": [
  {
   "attachments": {},
   "cell_type": "markdown",
   "metadata": {},
   "source": [
    "### 1. In the below elements which of them are values or an expression? eg:- values can beinteger or string and expressions will be mathematical operators.\n",
    "*,'hello',-87.8,-,/,+,6\n",
    "\n",
    "Values or Expressions:\n",
    "\n",
    "Values: 'hello', -87.8, 6\n",
    "Expression: *, -, /, +"
   ]
  },
  {
   "attachments": {},
   "cell_type": "markdown",
   "metadata": {},
   "source": [
    "### 2. What is the difference between string and variable?\n",
    "\n",
    "Difference between String and Variable:\n",
    "\n",
    "String: A string is a sequence of characters, typically used to represent text. For example: 'hello', 'world'.\n",
    "\n",
    "Variable: A variable is a name that refers to a value. It stores data that can be changed during the execution of a program."
   ]
  },
  {
   "attachments": {},
   "cell_type": "markdown",
   "metadata": {},
   "source": [
    "### 3. Describe three different data types.\n",
    "\n",
    "Three Different Data Types:\n",
    "\n",
    "Integer: Whole numbers without any fractional part, e.g., 5, -10.\n",
    "\n",
    "Float: Numbers with a decimal point or in exponential form, e.g., 3.14, -0.001.\n",
    "\n",
    "String: A sequence of characters, enclosed in single quotes ('') or double quotes (\"\"). Example: \"hello\", 'world'.\n"
   ]
  },
  {
   "attachments": {},
   "cell_type": "markdown",
   "metadata": {},
   "source": [
    "### 4. What is an expression made up of? What do all expressions do?\n",
    "\n",
    "Expressions:\n",
    "\n",
    "An expression is made up of operators and operands (values or variables) that evaluates to a single value.\n",
    "\n",
    "Expressions can perform operations like addition (+), subtraction (-), multiplication (*), division (/), etc.\n",
    "\n",
    "All expressions, when evaluated, produce a value.\n"
   ]
  },
  {
   "attachments": {},
   "cell_type": "markdown",
   "metadata": {},
   "source": [
    "### 5. This assignment statements, like spam = 10. What is the difference between an expression and a statement?\n",
    "\n",
    "Difference between Expression and Statement:\n",
    "\n",
    "Expression: An expression is a combination of values, variables, and operators that can be evaluated to produce a value. Examples: 5 + 3, spam * 2.\n",
    "\n",
    "Statement: A statement is a complete line of code that performs some action. Assignment statements like spam = 10 are statements.\n"
   ]
  },
  {
   "attachments": {},
   "cell_type": "markdown",
   "metadata": {},
   "source": [
    "### 6. After running the following code, what does the variable bacon contain?\n",
    "bacon = 22\n",
    "bacon + 1\n",
    "\n",
    "\n",
    "Value of the variable bacon:\n",
    "\n",
    "After the code runs, the variable bacon will still contain the value 22. bacon + 1 evaluates to 23, but it's not assigned back to the bacon variable."
   ]
  },
  {
   "attachments": {},
   "cell_type": "markdown",
   "metadata": {},
   "source": [
    "### 7. What should the values of the following two terms be?\n",
    "'spam' + 'spamspam'\n",
    "'spam' * 3\n",
    "\n",
    "\n",
    "Values of the following terms:\n",
    "\n",
    "'spam' + 'spamspam' results in 'spamspamspam'.\n",
    "'spam' * 3 results in 'spamspamspam'.\n"
   ]
  },
  {
   "attachments": {},
   "cell_type": "markdown",
   "metadata": {},
   "source": [
    "### 8. Why is eggs a valid variable name while 100 is invalid?\n",
    "\n",
    "Valid Variable Name:\n",
    "\n",
    "'eggs' is a valid variable name because it starts with a letter and contains only letters, digits, or underscores. Variable names cannot start with a digit.\n"
   ]
  },
  {
   "attachments": {},
   "cell_type": "markdown",
   "metadata": {},
   "source": [
    "### 9. What three functions can be used to get the integer, floating-point number, or string version of a value?\n",
    "\n",
    "\n",
    "Functions to Get Different Versions of a Value:\n",
    "\n",
    "int() to get the integer version of a value.\n",
    "\n",
    "float() to get the floating-point number version of a value.\n",
    "\n",
    "str() to get the string version of a value."
   ]
  },
  {
   "attachments": {},
   "cell_type": "markdown",
   "metadata": {},
   "source": [
    "### 10. Why does this expression cause an error? How can you fix it?\n",
    "'I have eaten ' + 99 + ' burritos.'"
   ]
  },
  {
   "cell_type": "code",
   "execution_count": 2,
   "metadata": {},
   "outputs": [
    {
     "name": "stdout",
     "output_type": "stream",
     "text": [
      "I have eaten 99 burritos.\n"
     ]
    }
   ],
   "source": [
    "# Error in the Expression:\n",
    "\n",
    "# 1.The expression causes an error because you can't concatenate a string with an integer directly.\n",
    "# 2.To fix it, convert the integer '99' to a string using str(99):\n",
    "\n",
    "print('I have eaten ' + str(99) + ' burritos.')\n"
   ]
  }
 ],
 "metadata": {
  "kernelspec": {
   "display_name": "virtual_environment_name",
   "language": "python",
   "name": "virtual_environment_name"
  },
  "language_info": {
   "codemirror_mode": {
    "name": "ipython",
    "version": 3
   },
   "file_extension": ".py",
   "mimetype": "text/x-python",
   "name": "python",
   "nbconvert_exporter": "python",
   "pygments_lexer": "ipython3",
   "version": "3.10.12"
  },
  "orig_nbformat": 4
 },
 "nbformat": 4,
 "nbformat_minor": 2
}
